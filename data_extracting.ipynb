{
 "cells": [
  {
   "cell_type": "code",
   "execution_count": 1,
   "id": "13cf5fbf",
   "metadata": {},
   "outputs": [],
   "source": [
    "import os\n",
    "import pandas as pd"
   ]
  },
  {
   "cell_type": "code",
   "execution_count": 4,
   "id": "352ce276",
   "metadata": {},
   "outputs": [],
   "source": [
    "def prepare_data(path):\n",
    "    #load train eng-rus 200K each\n",
    "    with open(os.path.join(path, \"eng-rus/train.src\"), \"r\") as f:\n",
    "        english_text_rus = [next(f) for x in range(200000)]       \n",
    "        english_text_rus = [text.strip(\"\\n\") for text in english_text_rus]    \n",
    "    \n",
    "    with open(os.path.join(path, \"eng-rus/train.trg\"), \"r\", encoding=\"utf-8\") as f:\n",
    "        russian_text = [next(f) for x in range(200000)]\n",
    "        russian_text = [text.strip(\"\\n\") for text in russian_text]\n",
    "        \n",
    "    #load train eng-deu 200K each\n",
    "    with open(os.path.join(path, \"deu-eng/train.src\"), \"r\") as f:\n",
    "        german_text = [next(f) for x in range(200000)]\n",
    "        german_text = [text.strip(\"\\n\") for text in german_text]    \n",
    "        \n",
    "    with open(os.path.join(path, \"deu-eng/train.trg\"), \"r\", encoding=\"utf-8\") as f:\n",
    "        english_text_deu = [next(f) for x in range(200000)]\n",
    "        english_text_deu = [text.strip(\"\\n\") for text in english_text_deu]\n",
    "        \n",
    "#append sentences and prefixes to data list and then to train dataframe\n",
    "    data = []\n",
    "    \n",
    "    for russian, english in zip(russian_text, english_text_rus):\n",
    "        data.append([\"rus.eng\", russian, english])\n",
    "        data.append([\"eng.rus\", english, russian])\n",
    "        \n",
    "    for german, english in zip(german_text, english_text_deu):\n",
    "        data.append([\"ger.eng\", german, english])\n",
    "        data.append([\"eng.ger\", english, german])\n",
    "\n",
    "    train_df = pd.DataFrame(data, columns=[\"prefix\", \"input_text\", \"target_text\"])\n",
    "    \n",
    "#load test eng-rus\n",
    "    with open(os.path.join(path, \"eng-rus/test.src\"), \"r\") as f:\n",
    "        english_text_rus = f.readlines()\n",
    "        english_text_rus = [text.strip(\"\\n\") for text in english_text_rus]    \n",
    "    with open(os.path.join(path, \"eng-rus/test.trg\"), \"r\", encoding=\"utf-8\") as f:\n",
    "        russian_text = f.readlines()\n",
    "        russian_text = [text.strip(\"\\n\") for text in russian_text]\n",
    "\n",
    "#load test eng-deu\n",
    "    with open(os.path.join(path, \"deu-eng/test.src\"), \"r\", encoding=\"utf-8\") as f:\n",
    "        german_text = f.readlines()\n",
    "        german_text = [text.strip(\"\\n\") for text in german_text]\n",
    "\n",
    "    with open(os.path.join(path, \"deu-eng/test.trg\"), \"r\") as f:\n",
    "        english_text_deu = f.readlines()\n",
    "        english_text_deu = [text.strip(\"\\n\") for text in english_text_deu]    \n",
    "        \n",
    "#append sentences and prefixes to data list and then to test dataframe   \n",
    "\n",
    "    data = []\n",
    "    for russian, english in zip(russian_text, english_text_rus):\n",
    "        data.append([\"rus.eng\", russian, english])\n",
    "        data.append([\"eng.rus\", english, russian])\n",
    "        \n",
    "    for german, english in zip(german_text, english_text_deu):\n",
    "        data.append([\"ger.eng\", german, english])\n",
    "        data.append([\"eng.ger\", english, german])\n",
    "        \n",
    "    eval_df = pd.DataFrame(data, columns=[\"prefix\", \"input_text\", \"target_text\"])\n",
    "\n",
    "    return train_df, eval_df"
   ]
  },
  {
   "cell_type": "code",
   "execution_count": 5,
   "id": "d29d9157",
   "metadata": {},
   "outputs": [],
   "source": [
    "train_df, eval_df = prepare_translation_datasets(\"data/release/v2020-07-28/\")"
   ]
  },
  {
   "cell_type": "code",
   "execution_count": 6,
   "id": "3f4615e3",
   "metadata": {},
   "outputs": [],
   "source": [
    "for index, row in train_df.iterrows():\n",
    "  row[\"input_text\"]='<'+row[\"prefix\"]+'>'+' '+row[\"input_text\"]"
   ]
  },
  {
   "cell_type": "code",
   "execution_count": 7,
   "id": "de083ed5",
   "metadata": {},
   "outputs": [],
   "source": [
    "for index, row in eval_df.iterrows():\n",
    "  row[\"input_text\"]='<'+row[\"prefix\"]+'>'+' '+row[\"input_text\"]"
   ]
  },
  {
   "cell_type": "code",
   "execution_count": 11,
   "id": "8d7ed3d6",
   "metadata": {},
   "outputs": [
    {
     "data": {
      "text/html": [
       "<div>\n",
       "<style scoped>\n",
       "    .dataframe tbody tr th:only-of-type {\n",
       "        vertical-align: middle;\n",
       "    }\n",
       "\n",
       "    .dataframe tbody tr th {\n",
       "        vertical-align: top;\n",
       "    }\n",
       "\n",
       "    .dataframe thead th {\n",
       "        text-align: right;\n",
       "    }\n",
       "</style>\n",
       "<table border=\"1\" class=\"dataframe\">\n",
       "  <thead>\n",
       "    <tr style=\"text-align: right;\">\n",
       "      <th></th>\n",
       "      <th>prefix</th>\n",
       "      <th>input_text</th>\n",
       "      <th>target_text</th>\n",
       "    </tr>\n",
       "  </thead>\n",
       "  <tbody>\n",
       "    <tr>\n",
       "      <th>245460</th>\n",
       "      <td>rus.eng</td>\n",
       "      <td>&lt;rus.eng&gt; Заседание закрывается в 13 час. 00 мин.</td>\n",
       "      <td>Any corrections to the records of the meetings...</td>\n",
       "    </tr>\n",
       "    <tr>\n",
       "      <th>522229</th>\n",
       "      <td>eng.ger</td>\n",
       "      <td>&lt;eng.ger&gt; Poor people he had provided with a t...</td>\n",
       "      <td>Arme Leute, denen er eine Aufgabe und einen Le...</td>\n",
       "    </tr>\n",
       "    <tr>\n",
       "      <th>373025</th>\n",
       "      <td>eng.rus</td>\n",
       "      <td>&lt;eng.rus&gt; Eliot, what is this about?</td>\n",
       "      <td>Элиот, что с тобой такое?</td>\n",
       "    </tr>\n",
       "    <tr>\n",
       "      <th>716432</th>\n",
       "      <td>ger.eng</td>\n",
       "      <td>&lt;ger.eng&gt; Art-Nr 8351420 Voraussichtlicher Lie...</td>\n",
       "      <td>Art-Nr 8351420 Expected delivery date: Tomorro...</td>\n",
       "    </tr>\n",
       "  </tbody>\n",
       "</table>\n",
       "</div>"
      ],
      "text/plain": [
       "         prefix                                         input_text  \\\n",
       "245460  rus.eng  <rus.eng> Заседание закрывается в 13 час. 00 мин.   \n",
       "522229  eng.ger  <eng.ger> Poor people he had provided with a t...   \n",
       "373025  eng.rus               <eng.rus> Eliot, what is this about?   \n",
       "716432  ger.eng  <ger.eng> Art-Nr 8351420 Voraussichtlicher Lie...   \n",
       "\n",
       "                                              target_text  \n",
       "245460  Any corrections to the records of the meetings...  \n",
       "522229  Arme Leute, denen er eine Aufgabe und einen Le...  \n",
       "373025                          Элиот, что с тобой такое?  \n",
       "716432  Art-Nr 8351420 Expected delivery date: Tomorro...  "
      ]
     },
     "execution_count": 11,
     "metadata": {},
     "output_type": "execute_result"
    }
   ],
   "source": [
    "train_df.sample(4)"
   ]
  },
  {
   "cell_type": "code",
   "execution_count": 12,
   "id": "cc6b7f4b",
   "metadata": {},
   "outputs": [],
   "source": [
    "train_df.to_csv(\"data/train.tsv\", sep=\"\\t\")\n",
    "eval_df.to_csv(\"data/eval.tsv\", sep=\"\\t\")"
   ]
  }
 ],
 "metadata": {
  "kernelspec": {
   "display_name": "Python 3",
   "language": "python",
   "name": "python3"
  },
  "language_info": {
   "codemirror_mode": {
    "name": "ipython",
    "version": 3
   },
   "file_extension": ".py",
   "mimetype": "text/x-python",
   "name": "python",
   "nbconvert_exporter": "python",
   "pygments_lexer": "ipython3",
   "version": "3.8.8"
  }
 },
 "nbformat": 4,
 "nbformat_minor": 5
}
