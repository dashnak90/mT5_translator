{
  "nbformat": 4,
  "nbformat_minor": 0,
  "metadata": {
    "colab": {
      "name": "mT5_Translator-final",
      "provenance": [],
      "collapsed_sections": [],
      "machine_shape": "hm",
      "include_colab_link": true
    },
    "kernelspec": {
      "name": "python3",
      "display_name": "Python 3"
    },
    "language_info": {
      "name": "python"
    },
    "accelerator": "GPU",
    "widgets": {
      "application/vnd.jupyter.widget-state+json": {
        "2a5724eeeef64b5ca235be907c8cd1da": {
          "model_module": "@jupyter-widgets/controls",
          "model_name": "HBoxModel",
          "state": {
            "_view_name": "HBoxView",
            "_dom_classes": [],
            "_model_name": "HBoxModel",
            "_view_module": "@jupyter-widgets/controls",
            "_model_module_version": "1.5.0",
            "_view_count": null,
            "_view_module_version": "1.5.0",
            "box_style": "",
            "layout": "IPY_MODEL_337faab88e054105b164d1c5e8e836bd",
            "_model_module": "@jupyter-widgets/controls",
            "children": [
              "IPY_MODEL_e85e207a45eb4328bf43cc1be393dd6a",
              "IPY_MODEL_8ee02843fcbb4e5091c85ff5af9ba5d5",
              "IPY_MODEL_f3808bf90eaf4faa979ffdc2f098d069"
            ]
          }
        },
        "337faab88e054105b164d1c5e8e836bd": {
          "model_module": "@jupyter-widgets/base",
          "model_name": "LayoutModel",
          "state": {
            "_view_name": "LayoutView",
            "grid_template_rows": null,
            "right": null,
            "justify_content": null,
            "_view_module": "@jupyter-widgets/base",
            "overflow": null,
            "_model_module_version": "1.2.0",
            "_view_count": null,
            "flex_flow": null,
            "width": null,
            "min_width": null,
            "border": null,
            "align_items": null,
            "bottom": null,
            "_model_module": "@jupyter-widgets/base",
            "top": null,
            "grid_column": null,
            "overflow_y": null,
            "overflow_x": null,
            "grid_auto_flow": null,
            "grid_area": null,
            "grid_template_columns": null,
            "flex": null,
            "_model_name": "LayoutModel",
            "justify_items": null,
            "grid_row": null,
            "max_height": null,
            "align_content": null,
            "visibility": null,
            "align_self": null,
            "height": null,
            "min_height": null,
            "padding": null,
            "grid_auto_rows": null,
            "grid_gap": null,
            "max_width": null,
            "order": null,
            "_view_module_version": "1.2.0",
            "grid_template_areas": null,
            "object_position": null,
            "object_fit": null,
            "grid_auto_columns": null,
            "margin": null,
            "display": null,
            "left": null
          }
        },
        "e85e207a45eb4328bf43cc1be393dd6a": {
          "model_module": "@jupyter-widgets/controls",
          "model_name": "HTMLModel",
          "state": {
            "_view_name": "HTMLView",
            "style": "IPY_MODEL_644cded83c6c4114af2c90fb8c901250",
            "_dom_classes": [],
            "description": "",
            "_model_name": "HTMLModel",
            "placeholder": "​",
            "_view_module": "@jupyter-widgets/controls",
            "_model_module_version": "1.5.0",
            "value": "Downloading: 100%",
            "_view_count": null,
            "_view_module_version": "1.5.0",
            "description_tooltip": null,
            "_model_module": "@jupyter-widgets/controls",
            "layout": "IPY_MODEL_4e17b31477174442b8026efd0c18f34a"
          }
        },
        "8ee02843fcbb4e5091c85ff5af9ba5d5": {
          "model_module": "@jupyter-widgets/controls",
          "model_name": "FloatProgressModel",
          "state": {
            "_view_name": "ProgressView",
            "style": "IPY_MODEL_6f464f960e854446b4726156f4588bd8",
            "_dom_classes": [],
            "description": "",
            "_model_name": "FloatProgressModel",
            "bar_style": "success",
            "max": 376,
            "_view_module": "@jupyter-widgets/controls",
            "_model_module_version": "1.5.0",
            "value": 376,
            "_view_count": null,
            "_view_module_version": "1.5.0",
            "orientation": "horizontal",
            "min": 0,
            "description_tooltip": null,
            "_model_module": "@jupyter-widgets/controls",
            "layout": "IPY_MODEL_94a04219cbef4d42804029a3239f1118"
          }
        },
        "f3808bf90eaf4faa979ffdc2f098d069": {
          "model_module": "@jupyter-widgets/controls",
          "model_name": "HTMLModel",
          "state": {
            "_view_name": "HTMLView",
            "style": "IPY_MODEL_364d4055eab948e1acb8bb2a0cc2ab5a",
            "_dom_classes": [],
            "description": "",
            "_model_name": "HTMLModel",
            "placeholder": "​",
            "_view_module": "@jupyter-widgets/controls",
            "_model_module_version": "1.5.0",
            "value": " 376/376 [00:00&lt;00:00, 12.1kB/s]",
            "_view_count": null,
            "_view_module_version": "1.5.0",
            "description_tooltip": null,
            "_model_module": "@jupyter-widgets/controls",
            "layout": "IPY_MODEL_fb198753ffe747398e7d1a0ea6e923fa"
          }
        },
        "644cded83c6c4114af2c90fb8c901250": {
          "model_module": "@jupyter-widgets/controls",
          "model_name": "DescriptionStyleModel",
          "state": {
            "_view_name": "StyleView",
            "_model_name": "DescriptionStyleModel",
            "description_width": "",
            "_view_module": "@jupyter-widgets/base",
            "_model_module_version": "1.5.0",
            "_view_count": null,
            "_view_module_version": "1.2.0",
            "_model_module": "@jupyter-widgets/controls"
          }
        },
        "4e17b31477174442b8026efd0c18f34a": {
          "model_module": "@jupyter-widgets/base",
          "model_name": "LayoutModel",
          "state": {
            "_view_name": "LayoutView",
            "grid_template_rows": null,
            "right": null,
            "justify_content": null,
            "_view_module": "@jupyter-widgets/base",
            "overflow": null,
            "_model_module_version": "1.2.0",
            "_view_count": null,
            "flex_flow": null,
            "width": null,
            "min_width": null,
            "border": null,
            "align_items": null,
            "bottom": null,
            "_model_module": "@jupyter-widgets/base",
            "top": null,
            "grid_column": null,
            "overflow_y": null,
            "overflow_x": null,
            "grid_auto_flow": null,
            "grid_area": null,
            "grid_template_columns": null,
            "flex": null,
            "_model_name": "LayoutModel",
            "justify_items": null,
            "grid_row": null,
            "max_height": null,
            "align_content": null,
            "visibility": null,
            "align_self": null,
            "height": null,
            "min_height": null,
            "padding": null,
            "grid_auto_rows": null,
            "grid_gap": null,
            "max_width": null,
            "order": null,
            "_view_module_version": "1.2.0",
            "grid_template_areas": null,
            "object_position": null,
            "object_fit": null,
            "grid_auto_columns": null,
            "margin": null,
            "display": null,
            "left": null
          }
        },
        "6f464f960e854446b4726156f4588bd8": {
          "model_module": "@jupyter-widgets/controls",
          "model_name": "ProgressStyleModel",
          "state": {
            "_view_name": "StyleView",
            "_model_name": "ProgressStyleModel",
            "description_width": "",
            "_view_module": "@jupyter-widgets/base",
            "_model_module_version": "1.5.0",
            "_view_count": null,
            "_view_module_version": "1.2.0",
            "bar_color": null,
            "_model_module": "@jupyter-widgets/controls"
          }
        },
        "94a04219cbef4d42804029a3239f1118": {
          "model_module": "@jupyter-widgets/base",
          "model_name": "LayoutModel",
          "state": {
            "_view_name": "LayoutView",
            "grid_template_rows": null,
            "right": null,
            "justify_content": null,
            "_view_module": "@jupyter-widgets/base",
            "overflow": null,
            "_model_module_version": "1.2.0",
            "_view_count": null,
            "flex_flow": null,
            "width": null,
            "min_width": null,
            "border": null,
            "align_items": null,
            "bottom": null,
            "_model_module": "@jupyter-widgets/base",
            "top": null,
            "grid_column": null,
            "overflow_y": null,
            "overflow_x": null,
            "grid_auto_flow": null,
            "grid_area": null,
            "grid_template_columns": null,
            "flex": null,
            "_model_name": "LayoutModel",
            "justify_items": null,
            "grid_row": null,
            "max_height": null,
            "align_content": null,
            "visibility": null,
            "align_self": null,
            "height": null,
            "min_height": null,
            "padding": null,
            "grid_auto_rows": null,
            "grid_gap": null,
            "max_width": null,
            "order": null,
            "_view_module_version": "1.2.0",
            "grid_template_areas": null,
            "object_position": null,
            "object_fit": null,
            "grid_auto_columns": null,
            "margin": null,
            "display": null,
            "left": null
          }
        },
        "364d4055eab948e1acb8bb2a0cc2ab5a": {
          "model_module": "@jupyter-widgets/controls",
          "model_name": "DescriptionStyleModel",
          "state": {
            "_view_name": "StyleView",
            "_model_name": "DescriptionStyleModel",
            "description_width": "",
            "_view_module": "@jupyter-widgets/base",
            "_model_module_version": "1.5.0",
            "_view_count": null,
            "_view_module_version": "1.2.0",
            "_model_module": "@jupyter-widgets/controls"
          }
        },
        "fb198753ffe747398e7d1a0ea6e923fa": {
          "model_module": "@jupyter-widgets/base",
          "model_name": "LayoutModel",
          "state": {
            "_view_name": "LayoutView",
            "grid_template_rows": null,
            "right": null,
            "justify_content": null,
            "_view_module": "@jupyter-widgets/base",
            "overflow": null,
            "_model_module_version": "1.2.0",
            "_view_count": null,
            "flex_flow": null,
            "width": null,
            "min_width": null,
            "border": null,
            "align_items": null,
            "bottom": null,
            "_model_module": "@jupyter-widgets/base",
            "top": null,
            "grid_column": null,
            "overflow_y": null,
            "overflow_x": null,
            "grid_auto_flow": null,
            "grid_area": null,
            "grid_template_columns": null,
            "flex": null,
            "_model_name": "LayoutModel",
            "justify_items": null,
            "grid_row": null,
            "max_height": null,
            "align_content": null,
            "visibility": null,
            "align_self": null,
            "height": null,
            "min_height": null,
            "padding": null,
            "grid_auto_rows": null,
            "grid_gap": null,
            "max_width": null,
            "order": null,
            "_view_module_version": "1.2.0",
            "grid_template_areas": null,
            "object_position": null,
            "object_fit": null,
            "grid_auto_columns": null,
            "margin": null,
            "display": null,
            "left": null
          }
        },
        "31821566ec084ac5a06ac634f40d0ec8": {
          "model_module": "@jupyter-widgets/controls",
          "model_name": "HBoxModel",
          "state": {
            "_view_name": "HBoxView",
            "_dom_classes": [],
            "_model_name": "HBoxModel",
            "_view_module": "@jupyter-widgets/controls",
            "_model_module_version": "1.5.0",
            "_view_count": null,
            "_view_module_version": "1.5.0",
            "box_style": "",
            "layout": "IPY_MODEL_06a8880b174e442bbdbe8fcfe50d20e4",
            "_model_module": "@jupyter-widgets/controls",
            "children": [
              "IPY_MODEL_257668b8faf04e24946964fed55af42b",
              "IPY_MODEL_f8048af5b9fb4856a89dd5d6edac574e",
              "IPY_MODEL_9ff5c4d1c0a94c30ac781587e3019326"
            ]
          }
        },
        "06a8880b174e442bbdbe8fcfe50d20e4": {
          "model_module": "@jupyter-widgets/base",
          "model_name": "LayoutModel",
          "state": {
            "_view_name": "LayoutView",
            "grid_template_rows": null,
            "right": null,
            "justify_content": null,
            "_view_module": "@jupyter-widgets/base",
            "overflow": null,
            "_model_module_version": "1.2.0",
            "_view_count": null,
            "flex_flow": null,
            "width": null,
            "min_width": null,
            "border": null,
            "align_items": null,
            "bottom": null,
            "_model_module": "@jupyter-widgets/base",
            "top": null,
            "grid_column": null,
            "overflow_y": null,
            "overflow_x": null,
            "grid_auto_flow": null,
            "grid_area": null,
            "grid_template_columns": null,
            "flex": null,
            "_model_name": "LayoutModel",
            "justify_items": null,
            "grid_row": null,
            "max_height": null,
            "align_content": null,
            "visibility": null,
            "align_self": null,
            "height": null,
            "min_height": null,
            "padding": null,
            "grid_auto_rows": null,
            "grid_gap": null,
            "max_width": null,
            "order": null,
            "_view_module_version": "1.2.0",
            "grid_template_areas": null,
            "object_position": null,
            "object_fit": null,
            "grid_auto_columns": null,
            "margin": null,
            "display": null,
            "left": null
          }
        },
        "257668b8faf04e24946964fed55af42b": {
          "model_module": "@jupyter-widgets/controls",
          "model_name": "HTMLModel",
          "state": {
            "_view_name": "HTMLView",
            "style": "IPY_MODEL_7ddf0aa691844bcc9e5b390d9d4109de",
            "_dom_classes": [],
            "description": "",
            "_model_name": "HTMLModel",
            "placeholder": "​",
            "_view_module": "@jupyter-widgets/controls",
            "_model_module_version": "1.5.0",
            "value": "Downloading: 100%",
            "_view_count": null,
            "_view_module_version": "1.5.0",
            "description_tooltip": null,
            "_model_module": "@jupyter-widgets/controls",
            "layout": "IPY_MODEL_1e25b7f967a24965b418e3e6f2f87410"
          }
        },
        "f8048af5b9fb4856a89dd5d6edac574e": {
          "model_module": "@jupyter-widgets/controls",
          "model_name": "FloatProgressModel",
          "state": {
            "_view_name": "ProgressView",
            "style": "IPY_MODEL_0bcba196d8a549b1847e8ab56ab882d1",
            "_dom_classes": [],
            "description": "",
            "_model_name": "FloatProgressModel",
            "bar_style": "success",
            "max": 702,
            "_view_module": "@jupyter-widgets/controls",
            "_model_module_version": "1.5.0",
            "value": 702,
            "_view_count": null,
            "_view_module_version": "1.5.0",
            "orientation": "horizontal",
            "min": 0,
            "description_tooltip": null,
            "_model_module": "@jupyter-widgets/controls",
            "layout": "IPY_MODEL_952d55ee2fd04c0e9bdc75d280c3f287"
          }
        },
        "9ff5c4d1c0a94c30ac781587e3019326": {
          "model_module": "@jupyter-widgets/controls",
          "model_name": "HTMLModel",
          "state": {
            "_view_name": "HTMLView",
            "style": "IPY_MODEL_ebd1ce54bc2b4b519ee317cee4d8199d",
            "_dom_classes": [],
            "description": "",
            "_model_name": "HTMLModel",
            "placeholder": "​",
            "_view_module": "@jupyter-widgets/controls",
            "_model_module_version": "1.5.0",
            "value": " 702/702 [00:00&lt;00:00, 23.6kB/s]",
            "_view_count": null,
            "_view_module_version": "1.5.0",
            "description_tooltip": null,
            "_model_module": "@jupyter-widgets/controls",
            "layout": "IPY_MODEL_a577c0db30724d12999068e2d8ce8a56"
          }
        },
        "7ddf0aa691844bcc9e5b390d9d4109de": {
          "model_module": "@jupyter-widgets/controls",
          "model_name": "DescriptionStyleModel",
          "state": {
            "_view_name": "StyleView",
            "_model_name": "DescriptionStyleModel",
            "description_width": "",
            "_view_module": "@jupyter-widgets/base",
            "_model_module_version": "1.5.0",
            "_view_count": null,
            "_view_module_version": "1.2.0",
            "_model_module": "@jupyter-widgets/controls"
          }
        },
        "1e25b7f967a24965b418e3e6f2f87410": {
          "model_module": "@jupyter-widgets/base",
          "model_name": "LayoutModel",
          "state": {
            "_view_name": "LayoutView",
            "grid_template_rows": null,
            "right": null,
            "justify_content": null,
            "_view_module": "@jupyter-widgets/base",
            "overflow": null,
            "_model_module_version": "1.2.0",
            "_view_count": null,
            "flex_flow": null,
            "width": null,
            "min_width": null,
            "border": null,
            "align_items": null,
            "bottom": null,
            "_model_module": "@jupyter-widgets/base",
            "top": null,
            "grid_column": null,
            "overflow_y": null,
            "overflow_x": null,
            "grid_auto_flow": null,
            "grid_area": null,
            "grid_template_columns": null,
            "flex": null,
            "_model_name": "LayoutModel",
            "justify_items": null,
            "grid_row": null,
            "max_height": null,
            "align_content": null,
            "visibility": null,
            "align_self": null,
            "height": null,
            "min_height": null,
            "padding": null,
            "grid_auto_rows": null,
            "grid_gap": null,
            "max_width": null,
            "order": null,
            "_view_module_version": "1.2.0",
            "grid_template_areas": null,
            "object_position": null,
            "object_fit": null,
            "grid_auto_columns": null,
            "margin": null,
            "display": null,
            "left": null
          }
        },
        "0bcba196d8a549b1847e8ab56ab882d1": {
          "model_module": "@jupyter-widgets/controls",
          "model_name": "ProgressStyleModel",
          "state": {
            "_view_name": "StyleView",
            "_model_name": "ProgressStyleModel",
            "description_width": "",
            "_view_module": "@jupyter-widgets/base",
            "_model_module_version": "1.5.0",
            "_view_count": null,
            "_view_module_version": "1.2.0",
            "bar_color": null,
            "_model_module": "@jupyter-widgets/controls"
          }
        },
        "952d55ee2fd04c0e9bdc75d280c3f287": {
          "model_module": "@jupyter-widgets/base",
          "model_name": "LayoutModel",
          "state": {
            "_view_name": "LayoutView",
            "grid_template_rows": null,
            "right": null,
            "justify_content": null,
            "_view_module": "@jupyter-widgets/base",
            "overflow": null,
            "_model_module_version": "1.2.0",
            "_view_count": null,
            "flex_flow": null,
            "width": null,
            "min_width": null,
            "border": null,
            "align_items": null,
            "bottom": null,
            "_model_module": "@jupyter-widgets/base",
            "top": null,
            "grid_column": null,
            "overflow_y": null,
            "overflow_x": null,
            "grid_auto_flow": null,
            "grid_area": null,
            "grid_template_columns": null,
            "flex": null,
            "_model_name": "LayoutModel",
            "justify_items": null,
            "grid_row": null,
            "max_height": null,
            "align_content": null,
            "visibility": null,
            "align_self": null,
            "height": null,
            "min_height": null,
            "padding": null,
            "grid_auto_rows": null,
            "grid_gap": null,
            "max_width": null,
            "order": null,
            "_view_module_version": "1.2.0",
            "grid_template_areas": null,
            "object_position": null,
            "object_fit": null,
            "grid_auto_columns": null,
            "margin": null,
            "display": null,
            "left": null
          }
        },
        "ebd1ce54bc2b4b519ee317cee4d8199d": {
          "model_module": "@jupyter-widgets/controls",
          "model_name": "DescriptionStyleModel",
          "state": {
            "_view_name": "StyleView",
            "_model_name": "DescriptionStyleModel",
            "description_width": "",
            "_view_module": "@jupyter-widgets/base",
            "_model_module_version": "1.5.0",
            "_view_count": null,
            "_view_module_version": "1.2.0",
            "_model_module": "@jupyter-widgets/controls"
          }
        },
        "a577c0db30724d12999068e2d8ce8a56": {
          "model_module": "@jupyter-widgets/base",
          "model_name": "LayoutModel",
          "state": {
            "_view_name": "LayoutView",
            "grid_template_rows": null,
            "right": null,
            "justify_content": null,
            "_view_module": "@jupyter-widgets/base",
            "overflow": null,
            "_model_module_version": "1.2.0",
            "_view_count": null,
            "flex_flow": null,
            "width": null,
            "min_width": null,
            "border": null,
            "align_items": null,
            "bottom": null,
            "_model_module": "@jupyter-widgets/base",
            "top": null,
            "grid_column": null,
            "overflow_y": null,
            "overflow_x": null,
            "grid_auto_flow": null,
            "grid_area": null,
            "grid_template_columns": null,
            "flex": null,
            "_model_name": "LayoutModel",
            "justify_items": null,
            "grid_row": null,
            "max_height": null,
            "align_content": null,
            "visibility": null,
            "align_self": null,
            "height": null,
            "min_height": null,
            "padding": null,
            "grid_auto_rows": null,
            "grid_gap": null,
            "max_width": null,
            "order": null,
            "_view_module_version": "1.2.0",
            "grid_template_areas": null,
            "object_position": null,
            "object_fit": null,
            "grid_auto_columns": null,
            "margin": null,
            "display": null,
            "left": null
          }
        },
        "687985a638f849d8bb0355b21a9f2db0": {
          "model_module": "@jupyter-widgets/controls",
          "model_name": "HBoxModel",
          "state": {
            "_view_name": "HBoxView",
            "_dom_classes": [],
            "_model_name": "HBoxModel",
            "_view_module": "@jupyter-widgets/controls",
            "_model_module_version": "1.5.0",
            "_view_count": null,
            "_view_module_version": "1.5.0",
            "box_style": "",
            "layout": "IPY_MODEL_318e3f1e3bf34565a44bb42562eb28c8",
            "_model_module": "@jupyter-widgets/controls",
            "children": [
              "IPY_MODEL_65456a440aef474c95939c0d1b53e204",
              "IPY_MODEL_c8be890aa62f4f289a3a178a8846ad69",
              "IPY_MODEL_b9be84230dab46b2883973e7f2a0c993"
            ]
          }
        },
        "318e3f1e3bf34565a44bb42562eb28c8": {
          "model_module": "@jupyter-widgets/base",
          "model_name": "LayoutModel",
          "state": {
            "_view_name": "LayoutView",
            "grid_template_rows": null,
            "right": null,
            "justify_content": null,
            "_view_module": "@jupyter-widgets/base",
            "overflow": null,
            "_model_module_version": "1.2.0",
            "_view_count": null,
            "flex_flow": null,
            "width": null,
            "min_width": null,
            "border": null,
            "align_items": null,
            "bottom": null,
            "_model_module": "@jupyter-widgets/base",
            "top": null,
            "grid_column": null,
            "overflow_y": null,
            "overflow_x": null,
            "grid_auto_flow": null,
            "grid_area": null,
            "grid_template_columns": null,
            "flex": null,
            "_model_name": "LayoutModel",
            "justify_items": null,
            "grid_row": null,
            "max_height": null,
            "align_content": null,
            "visibility": null,
            "align_self": null,
            "height": null,
            "min_height": null,
            "padding": null,
            "grid_auto_rows": null,
            "grid_gap": null,
            "max_width": null,
            "order": null,
            "_view_module_version": "1.2.0",
            "grid_template_areas": null,
            "object_position": null,
            "object_fit": null,
            "grid_auto_columns": null,
            "margin": null,
            "display": null,
            "left": null
          }
        },
        "65456a440aef474c95939c0d1b53e204": {
          "model_module": "@jupyter-widgets/controls",
          "model_name": "HTMLModel",
          "state": {
            "_view_name": "HTMLView",
            "style": "IPY_MODEL_ee72f02b9b154aeda7135ec2917a8eea",
            "_dom_classes": [],
            "description": "",
            "_model_name": "HTMLModel",
            "placeholder": "​",
            "_view_module": "@jupyter-widgets/controls",
            "_model_module_version": "1.5.0",
            "value": "Downloading: 100%",
            "_view_count": null,
            "_view_module_version": "1.5.0",
            "description_tooltip": null,
            "_model_module": "@jupyter-widgets/controls",
            "layout": "IPY_MODEL_c079241d127d4fb0b536748a380fad8e"
          }
        },
        "c8be890aa62f4f289a3a178a8846ad69": {
          "model_module": "@jupyter-widgets/controls",
          "model_name": "FloatProgressModel",
          "state": {
            "_view_name": "ProgressView",
            "style": "IPY_MODEL_d3c56d19786d4a3aa0dcd0595e41241c",
            "_dom_classes": [],
            "description": "",
            "_model_name": "FloatProgressModel",
            "bar_style": "success",
            "max": 4309802,
            "_view_module": "@jupyter-widgets/controls",
            "_model_module_version": "1.5.0",
            "value": 4309802,
            "_view_count": null,
            "_view_module_version": "1.5.0",
            "orientation": "horizontal",
            "min": 0,
            "description_tooltip": null,
            "_model_module": "@jupyter-widgets/controls",
            "layout": "IPY_MODEL_252eaf57945d4dd9b88459d0aed2a553"
          }
        },
        "b9be84230dab46b2883973e7f2a0c993": {
          "model_module": "@jupyter-widgets/controls",
          "model_name": "HTMLModel",
          "state": {
            "_view_name": "HTMLView",
            "style": "IPY_MODEL_c61700c95e4a45df818b8c47374ff528",
            "_dom_classes": [],
            "description": "",
            "_model_name": "HTMLModel",
            "placeholder": "​",
            "_view_module": "@jupyter-widgets/controls",
            "_model_module_version": "1.5.0",
            "value": " 4.31M/4.31M [00:01&lt;00:00, 4.78MB/s]",
            "_view_count": null,
            "_view_module_version": "1.5.0",
            "description_tooltip": null,
            "_model_module": "@jupyter-widgets/controls",
            "layout": "IPY_MODEL_147fa343071246b69c453aa823adc778"
          }
        },
        "ee72f02b9b154aeda7135ec2917a8eea": {
          "model_module": "@jupyter-widgets/controls",
          "model_name": "DescriptionStyleModel",
          "state": {
            "_view_name": "StyleView",
            "_model_name": "DescriptionStyleModel",
            "description_width": "",
            "_view_module": "@jupyter-widgets/base",
            "_model_module_version": "1.5.0",
            "_view_count": null,
            "_view_module_version": "1.2.0",
            "_model_module": "@jupyter-widgets/controls"
          }
        },
        "c079241d127d4fb0b536748a380fad8e": {
          "model_module": "@jupyter-widgets/base",
          "model_name": "LayoutModel",
          "state": {
            "_view_name": "LayoutView",
            "grid_template_rows": null,
            "right": null,
            "justify_content": null,
            "_view_module": "@jupyter-widgets/base",
            "overflow": null,
            "_model_module_version": "1.2.0",
            "_view_count": null,
            "flex_flow": null,
            "width": null,
            "min_width": null,
            "border": null,
            "align_items": null,
            "bottom": null,
            "_model_module": "@jupyter-widgets/base",
            "top": null,
            "grid_column": null,
            "overflow_y": null,
            "overflow_x": null,
            "grid_auto_flow": null,
            "grid_area": null,
            "grid_template_columns": null,
            "flex": null,
            "_model_name": "LayoutModel",
            "justify_items": null,
            "grid_row": null,
            "max_height": null,
            "align_content": null,
            "visibility": null,
            "align_self": null,
            "height": null,
            "min_height": null,
            "padding": null,
            "grid_auto_rows": null,
            "grid_gap": null,
            "max_width": null,
            "order": null,
            "_view_module_version": "1.2.0",
            "grid_template_areas": null,
            "object_position": null,
            "object_fit": null,
            "grid_auto_columns": null,
            "margin": null,
            "display": null,
            "left": null
          }
        },
        "d3c56d19786d4a3aa0dcd0595e41241c": {
          "model_module": "@jupyter-widgets/controls",
          "model_name": "ProgressStyleModel",
          "state": {
            "_view_name": "StyleView",
            "_model_name": "ProgressStyleModel",
            "description_width": "",
            "_view_module": "@jupyter-widgets/base",
            "_model_module_version": "1.5.0",
            "_view_count": null,
            "_view_module_version": "1.2.0",
            "bar_color": null,
            "_model_module": "@jupyter-widgets/controls"
          }
        },
        "252eaf57945d4dd9b88459d0aed2a553": {
          "model_module": "@jupyter-widgets/base",
          "model_name": "LayoutModel",
          "state": {
            "_view_name": "LayoutView",
            "grid_template_rows": null,
            "right": null,
            "justify_content": null,
            "_view_module": "@jupyter-widgets/base",
            "overflow": null,
            "_model_module_version": "1.2.0",
            "_view_count": null,
            "flex_flow": null,
            "width": null,
            "min_width": null,
            "border": null,
            "align_items": null,
            "bottom": null,
            "_model_module": "@jupyter-widgets/base",
            "top": null,
            "grid_column": null,
            "overflow_y": null,
            "overflow_x": null,
            "grid_auto_flow": null,
            "grid_area": null,
            "grid_template_columns": null,
            "flex": null,
            "_model_name": "LayoutModel",
            "justify_items": null,
            "grid_row": null,
            "max_height": null,
            "align_content": null,
            "visibility": null,
            "align_self": null,
            "height": null,
            "min_height": null,
            "padding": null,
            "grid_auto_rows": null,
            "grid_gap": null,
            "max_width": null,
            "order": null,
            "_view_module_version": "1.2.0",
            "grid_template_areas": null,
            "object_position": null,
            "object_fit": null,
            "grid_auto_columns": null,
            "margin": null,
            "display": null,
            "left": null
          }
        },
        "c61700c95e4a45df818b8c47374ff528": {
          "model_module": "@jupyter-widgets/controls",
          "model_name": "DescriptionStyleModel",
          "state": {
            "_view_name": "StyleView",
            "_model_name": "DescriptionStyleModel",
            "description_width": "",
            "_view_module": "@jupyter-widgets/base",
            "_model_module_version": "1.5.0",
            "_view_count": null,
            "_view_module_version": "1.2.0",
            "_model_module": "@jupyter-widgets/controls"
          }
        },
        "147fa343071246b69c453aa823adc778": {
          "model_module": "@jupyter-widgets/base",
          "model_name": "LayoutModel",
          "state": {
            "_view_name": "LayoutView",
            "grid_template_rows": null,
            "right": null,
            "justify_content": null,
            "_view_module": "@jupyter-widgets/base",
            "overflow": null,
            "_model_module_version": "1.2.0",
            "_view_count": null,
            "flex_flow": null,
            "width": null,
            "min_width": null,
            "border": null,
            "align_items": null,
            "bottom": null,
            "_model_module": "@jupyter-widgets/base",
            "top": null,
            "grid_column": null,
            "overflow_y": null,
            "overflow_x": null,
            "grid_auto_flow": null,
            "grid_area": null,
            "grid_template_columns": null,
            "flex": null,
            "_model_name": "LayoutModel",
            "justify_items": null,
            "grid_row": null,
            "max_height": null,
            "align_content": null,
            "visibility": null,
            "align_self": null,
            "height": null,
            "min_height": null,
            "padding": null,
            "grid_auto_rows": null,
            "grid_gap": null,
            "max_width": null,
            "order": null,
            "_view_module_version": "1.2.0",
            "grid_template_areas": null,
            "object_position": null,
            "object_fit": null,
            "grid_auto_columns": null,
            "margin": null,
            "display": null,
            "left": null
          }
        },
        "dc1b9cd0d484462eb147ffe7deb15ada": {
          "model_module": "@jupyter-widgets/controls",
          "model_name": "HBoxModel",
          "state": {
            "_view_name": "HBoxView",
            "_dom_classes": [],
            "_model_name": "HBoxModel",
            "_view_module": "@jupyter-widgets/controls",
            "_model_module_version": "1.5.0",
            "_view_count": null,
            "_view_module_version": "1.5.0",
            "box_style": "",
            "layout": "IPY_MODEL_6b0f5d1015be40d7b5ed2d8afc9ea504",
            "_model_module": "@jupyter-widgets/controls",
            "children": [
              "IPY_MODEL_8a8cee8426e843b58c8bf906db5d5b9e",
              "IPY_MODEL_444f70354b224864b91b60433c3ef931",
              "IPY_MODEL_d47cec07a96140319f6fa521a496badf"
            ]
          }
        },
        "6b0f5d1015be40d7b5ed2d8afc9ea504": {
          "model_module": "@jupyter-widgets/base",
          "model_name": "LayoutModel",
          "state": {
            "_view_name": "LayoutView",
            "grid_template_rows": null,
            "right": null,
            "justify_content": null,
            "_view_module": "@jupyter-widgets/base",
            "overflow": null,
            "_model_module_version": "1.2.0",
            "_view_count": null,
            "flex_flow": null,
            "width": null,
            "min_width": null,
            "border": null,
            "align_items": null,
            "bottom": null,
            "_model_module": "@jupyter-widgets/base",
            "top": null,
            "grid_column": null,
            "overflow_y": null,
            "overflow_x": null,
            "grid_auto_flow": null,
            "grid_area": null,
            "grid_template_columns": null,
            "flex": null,
            "_model_name": "LayoutModel",
            "justify_items": null,
            "grid_row": null,
            "max_height": null,
            "align_content": null,
            "visibility": null,
            "align_self": null,
            "height": null,
            "min_height": null,
            "padding": null,
            "grid_auto_rows": null,
            "grid_gap": null,
            "max_width": null,
            "order": null,
            "_view_module_version": "1.2.0",
            "grid_template_areas": null,
            "object_position": null,
            "object_fit": null,
            "grid_auto_columns": null,
            "margin": null,
            "display": null,
            "left": null
          }
        },
        "8a8cee8426e843b58c8bf906db5d5b9e": {
          "model_module": "@jupyter-widgets/controls",
          "model_name": "HTMLModel",
          "state": {
            "_view_name": "HTMLView",
            "style": "IPY_MODEL_db4f809ec8104b8487b03e721be77787",
            "_dom_classes": [],
            "description": "",
            "_model_name": "HTMLModel",
            "placeholder": "​",
            "_view_module": "@jupyter-widgets/controls",
            "_model_module_version": "1.5.0",
            "value": "Downloading: 100%",
            "_view_count": null,
            "_view_module_version": "1.5.0",
            "description_tooltip": null,
            "_model_module": "@jupyter-widgets/controls",
            "layout": "IPY_MODEL_a06de87546184d7cadff6d1e5dffd988"
          }
        },
        "444f70354b224864b91b60433c3ef931": {
          "model_module": "@jupyter-widgets/controls",
          "model_name": "FloatProgressModel",
          "state": {
            "_view_name": "ProgressView",
            "style": "IPY_MODEL_889ec41d5c1f4a368582cd0e1f41af6d",
            "_dom_classes": [],
            "description": "",
            "_model_name": "FloatProgressModel",
            "bar_style": "success",
            "max": 65,
            "_view_module": "@jupyter-widgets/controls",
            "_model_module_version": "1.5.0",
            "value": 65,
            "_view_count": null,
            "_view_module_version": "1.5.0",
            "orientation": "horizontal",
            "min": 0,
            "description_tooltip": null,
            "_model_module": "@jupyter-widgets/controls",
            "layout": "IPY_MODEL_afc3dd2de5004d53be989b19e7c1e476"
          }
        },
        "d47cec07a96140319f6fa521a496badf": {
          "model_module": "@jupyter-widgets/controls",
          "model_name": "HTMLModel",
          "state": {
            "_view_name": "HTMLView",
            "style": "IPY_MODEL_5ffb380b0de945cca9dd52053be2c008",
            "_dom_classes": [],
            "description": "",
            "_model_name": "HTMLModel",
            "placeholder": "​",
            "_view_module": "@jupyter-widgets/controls",
            "_model_module_version": "1.5.0",
            "value": " 65.0/65.0 [00:00&lt;00:00, 2.01kB/s]",
            "_view_count": null,
            "_view_module_version": "1.5.0",
            "description_tooltip": null,
            "_model_module": "@jupyter-widgets/controls",
            "layout": "IPY_MODEL_ebe78c4faa9d48219111d36e7babfbaa"
          }
        },
        "db4f809ec8104b8487b03e721be77787": {
          "model_module": "@jupyter-widgets/controls",
          "model_name": "DescriptionStyleModel",
          "state": {
            "_view_name": "StyleView",
            "_model_name": "DescriptionStyleModel",
            "description_width": "",
            "_view_module": "@jupyter-widgets/base",
            "_model_module_version": "1.5.0",
            "_view_count": null,
            "_view_module_version": "1.2.0",
            "_model_module": "@jupyter-widgets/controls"
          }
        },
        "a06de87546184d7cadff6d1e5dffd988": {
          "model_module": "@jupyter-widgets/base",
          "model_name": "LayoutModel",
          "state": {
            "_view_name": "LayoutView",
            "grid_template_rows": null,
            "right": null,
            "justify_content": null,
            "_view_module": "@jupyter-widgets/base",
            "overflow": null,
            "_model_module_version": "1.2.0",
            "_view_count": null,
            "flex_flow": null,
            "width": null,
            "min_width": null,
            "border": null,
            "align_items": null,
            "bottom": null,
            "_model_module": "@jupyter-widgets/base",
            "top": null,
            "grid_column": null,
            "overflow_y": null,
            "overflow_x": null,
            "grid_auto_flow": null,
            "grid_area": null,
            "grid_template_columns": null,
            "flex": null,
            "_model_name": "LayoutModel",
            "justify_items": null,
            "grid_row": null,
            "max_height": null,
            "align_content": null,
            "visibility": null,
            "align_self": null,
            "height": null,
            "min_height": null,
            "padding": null,
            "grid_auto_rows": null,
            "grid_gap": null,
            "max_width": null,
            "order": null,
            "_view_module_version": "1.2.0",
            "grid_template_areas": null,
            "object_position": null,
            "object_fit": null,
            "grid_auto_columns": null,
            "margin": null,
            "display": null,
            "left": null
          }
        },
        "889ec41d5c1f4a368582cd0e1f41af6d": {
          "model_module": "@jupyter-widgets/controls",
          "model_name": "ProgressStyleModel",
          "state": {
            "_view_name": "StyleView",
            "_model_name": "ProgressStyleModel",
            "description_width": "",
            "_view_module": "@jupyter-widgets/base",
            "_model_module_version": "1.5.0",
            "_view_count": null,
            "_view_module_version": "1.2.0",
            "bar_color": null,
            "_model_module": "@jupyter-widgets/controls"
          }
        },
        "afc3dd2de5004d53be989b19e7c1e476": {
          "model_module": "@jupyter-widgets/base",
          "model_name": "LayoutModel",
          "state": {
            "_view_name": "LayoutView",
            "grid_template_rows": null,
            "right": null,
            "justify_content": null,
            "_view_module": "@jupyter-widgets/base",
            "overflow": null,
            "_model_module_version": "1.2.0",
            "_view_count": null,
            "flex_flow": null,
            "width": null,
            "min_width": null,
            "border": null,
            "align_items": null,
            "bottom": null,
            "_model_module": "@jupyter-widgets/base",
            "top": null,
            "grid_column": null,
            "overflow_y": null,
            "overflow_x": null,
            "grid_auto_flow": null,
            "grid_area": null,
            "grid_template_columns": null,
            "flex": null,
            "_model_name": "LayoutModel",
            "justify_items": null,
            "grid_row": null,
            "max_height": null,
            "align_content": null,
            "visibility": null,
            "align_self": null,
            "height": null,
            "min_height": null,
            "padding": null,
            "grid_auto_rows": null,
            "grid_gap": null,
            "max_width": null,
            "order": null,
            "_view_module_version": "1.2.0",
            "grid_template_areas": null,
            "object_position": null,
            "object_fit": null,
            "grid_auto_columns": null,
            "margin": null,
            "display": null,
            "left": null
          }
        },
        "5ffb380b0de945cca9dd52053be2c008": {
          "model_module": "@jupyter-widgets/controls",
          "model_name": "DescriptionStyleModel",
          "state": {
            "_view_name": "StyleView",
            "_model_name": "DescriptionStyleModel",
            "description_width": "",
            "_view_module": "@jupyter-widgets/base",
            "_model_module_version": "1.5.0",
            "_view_count": null,
            "_view_module_version": "1.2.0",
            "_model_module": "@jupyter-widgets/controls"
          }
        },
        "ebe78c4faa9d48219111d36e7babfbaa": {
          "model_module": "@jupyter-widgets/base",
          "model_name": "LayoutModel",
          "state": {
            "_view_name": "LayoutView",
            "grid_template_rows": null,
            "right": null,
            "justify_content": null,
            "_view_module": "@jupyter-widgets/base",
            "overflow": null,
            "_model_module_version": "1.2.0",
            "_view_count": null,
            "flex_flow": null,
            "width": null,
            "min_width": null,
            "border": null,
            "align_items": null,
            "bottom": null,
            "_model_module": "@jupyter-widgets/base",
            "top": null,
            "grid_column": null,
            "overflow_y": null,
            "overflow_x": null,
            "grid_auto_flow": null,
            "grid_area": null,
            "grid_template_columns": null,
            "flex": null,
            "_model_name": "LayoutModel",
            "justify_items": null,
            "grid_row": null,
            "max_height": null,
            "align_content": null,
            "visibility": null,
            "align_self": null,
            "height": null,
            "min_height": null,
            "padding": null,
            "grid_auto_rows": null,
            "grid_gap": null,
            "max_width": null,
            "order": null,
            "_view_module_version": "1.2.0",
            "grid_template_areas": null,
            "object_position": null,
            "object_fit": null,
            "grid_auto_columns": null,
            "margin": null,
            "display": null,
            "left": null
          }
        },
        "e8929d1353484c9e8196bf42b9cae61d": {
          "model_module": "@jupyter-widgets/controls",
          "model_name": "HBoxModel",
          "state": {
            "_view_name": "HBoxView",
            "_dom_classes": [],
            "_model_name": "HBoxModel",
            "_view_module": "@jupyter-widgets/controls",
            "_model_module_version": "1.5.0",
            "_view_count": null,
            "_view_module_version": "1.5.0",
            "box_style": "",
            "layout": "IPY_MODEL_cc3bc3fd5e9b4b3ea5c25548a25b2d26",
            "_model_module": "@jupyter-widgets/controls",
            "children": [
              "IPY_MODEL_bcb8b35ffa3c4c3597a0ebad4783c410",
              "IPY_MODEL_1d4af4aaab33499cbd8610d6e960f799",
              "IPY_MODEL_90050fe019e6418ab17e076ec30a6e5d"
            ]
          }
        },
        "cc3bc3fd5e9b4b3ea5c25548a25b2d26": {
          "model_module": "@jupyter-widgets/base",
          "model_name": "LayoutModel",
          "state": {
            "_view_name": "LayoutView",
            "grid_template_rows": null,
            "right": null,
            "justify_content": null,
            "_view_module": "@jupyter-widgets/base",
            "overflow": null,
            "_model_module_version": "1.2.0",
            "_view_count": null,
            "flex_flow": null,
            "width": null,
            "min_width": null,
            "border": null,
            "align_items": null,
            "bottom": null,
            "_model_module": "@jupyter-widgets/base",
            "top": null,
            "grid_column": null,
            "overflow_y": null,
            "overflow_x": null,
            "grid_auto_flow": null,
            "grid_area": null,
            "grid_template_columns": null,
            "flex": null,
            "_model_name": "LayoutModel",
            "justify_items": null,
            "grid_row": null,
            "max_height": null,
            "align_content": null,
            "visibility": null,
            "align_self": null,
            "height": null,
            "min_height": null,
            "padding": null,
            "grid_auto_rows": null,
            "grid_gap": null,
            "max_width": null,
            "order": null,
            "_view_module_version": "1.2.0",
            "grid_template_areas": null,
            "object_position": null,
            "object_fit": null,
            "grid_auto_columns": null,
            "margin": null,
            "display": null,
            "left": null
          }
        },
        "bcb8b35ffa3c4c3597a0ebad4783c410": {
          "model_module": "@jupyter-widgets/controls",
          "model_name": "HTMLModel",
          "state": {
            "_view_name": "HTMLView",
            "style": "IPY_MODEL_4b4203db50384d6aad7d70db0f026f9c",
            "_dom_classes": [],
            "description": "",
            "_model_name": "HTMLModel",
            "placeholder": "​",
            "_view_module": "@jupyter-widgets/controls",
            "_model_module_version": "1.5.0",
            "value": "Downloading: 100%",
            "_view_count": null,
            "_view_module_version": "1.5.0",
            "description_tooltip": null,
            "_model_module": "@jupyter-widgets/controls",
            "layout": "IPY_MODEL_fa712541d9d4469dbc4d4e6a3b264f77"
          }
        },
        "1d4af4aaab33499cbd8610d6e960f799": {
          "model_module": "@jupyter-widgets/controls",
          "model_name": "FloatProgressModel",
          "state": {
            "_view_name": "ProgressView",
            "style": "IPY_MODEL_9db6518696d74d0ebf09b842fe49d2cf",
            "_dom_classes": [],
            "description": "",
            "_model_name": "FloatProgressModel",
            "bar_style": "success",
            "max": 2329735129,
            "_view_module": "@jupyter-widgets/controls",
            "_model_module_version": "1.5.0",
            "value": 2329735129,
            "_view_count": null,
            "_view_module_version": "1.5.0",
            "orientation": "horizontal",
            "min": 0,
            "description_tooltip": null,
            "_model_module": "@jupyter-widgets/controls",
            "layout": "IPY_MODEL_ab2ec4d3def7484a9178c481675f289a"
          }
        },
        "90050fe019e6418ab17e076ec30a6e5d": {
          "model_module": "@jupyter-widgets/controls",
          "model_name": "HTMLModel",
          "state": {
            "_view_name": "HTMLView",
            "style": "IPY_MODEL_980af4bf7e9145748ec4e4a21255c405",
            "_dom_classes": [],
            "description": "",
            "_model_name": "HTMLModel",
            "placeholder": "​",
            "_view_module": "@jupyter-widgets/controls",
            "_model_module_version": "1.5.0",
            "value": " 2.33G/2.33G [00:58&lt;00:00, 38.5MB/s]",
            "_view_count": null,
            "_view_module_version": "1.5.0",
            "description_tooltip": null,
            "_model_module": "@jupyter-widgets/controls",
            "layout": "IPY_MODEL_6d255c4cbff84e1bb7632fa6dcfcd64a"
          }
        },
        "4b4203db50384d6aad7d70db0f026f9c": {
          "model_module": "@jupyter-widgets/controls",
          "model_name": "DescriptionStyleModel",
          "state": {
            "_view_name": "StyleView",
            "_model_name": "DescriptionStyleModel",
            "description_width": "",
            "_view_module": "@jupyter-widgets/base",
            "_model_module_version": "1.5.0",
            "_view_count": null,
            "_view_module_version": "1.2.0",
            "_model_module": "@jupyter-widgets/controls"
          }
        },
        "fa712541d9d4469dbc4d4e6a3b264f77": {
          "model_module": "@jupyter-widgets/base",
          "model_name": "LayoutModel",
          "state": {
            "_view_name": "LayoutView",
            "grid_template_rows": null,
            "right": null,
            "justify_content": null,
            "_view_module": "@jupyter-widgets/base",
            "overflow": null,
            "_model_module_version": "1.2.0",
            "_view_count": null,
            "flex_flow": null,
            "width": null,
            "min_width": null,
            "border": null,
            "align_items": null,
            "bottom": null,
            "_model_module": "@jupyter-widgets/base",
            "top": null,
            "grid_column": null,
            "overflow_y": null,
            "overflow_x": null,
            "grid_auto_flow": null,
            "grid_area": null,
            "grid_template_columns": null,
            "flex": null,
            "_model_name": "LayoutModel",
            "justify_items": null,
            "grid_row": null,
            "max_height": null,
            "align_content": null,
            "visibility": null,
            "align_self": null,
            "height": null,
            "min_height": null,
            "padding": null,
            "grid_auto_rows": null,
            "grid_gap": null,
            "max_width": null,
            "order": null,
            "_view_module_version": "1.2.0",
            "grid_template_areas": null,
            "object_position": null,
            "object_fit": null,
            "grid_auto_columns": null,
            "margin": null,
            "display": null,
            "left": null
          }
        },
        "9db6518696d74d0ebf09b842fe49d2cf": {
          "model_module": "@jupyter-widgets/controls",
          "model_name": "ProgressStyleModel",
          "state": {
            "_view_name": "StyleView",
            "_model_name": "ProgressStyleModel",
            "description_width": "",
            "_view_module": "@jupyter-widgets/base",
            "_model_module_version": "1.5.0",
            "_view_count": null,
            "_view_module_version": "1.2.0",
            "bar_color": null,
            "_model_module": "@jupyter-widgets/controls"
          }
        },
        "ab2ec4d3def7484a9178c481675f289a": {
          "model_module": "@jupyter-widgets/base",
          "model_name": "LayoutModel",
          "state": {
            "_view_name": "LayoutView",
            "grid_template_rows": null,
            "right": null,
            "justify_content": null,
            "_view_module": "@jupyter-widgets/base",
            "overflow": null,
            "_model_module_version": "1.2.0",
            "_view_count": null,
            "flex_flow": null,
            "width": null,
            "min_width": null,
            "border": null,
            "align_items": null,
            "bottom": null,
            "_model_module": "@jupyter-widgets/base",
            "top": null,
            "grid_column": null,
            "overflow_y": null,
            "overflow_x": null,
            "grid_auto_flow": null,
            "grid_area": null,
            "grid_template_columns": null,
            "flex": null,
            "_model_name": "LayoutModel",
            "justify_items": null,
            "grid_row": null,
            "max_height": null,
            "align_content": null,
            "visibility": null,
            "align_self": null,
            "height": null,
            "min_height": null,
            "padding": null,
            "grid_auto_rows": null,
            "grid_gap": null,
            "max_width": null,
            "order": null,
            "_view_module_version": "1.2.0",
            "grid_template_areas": null,
            "object_position": null,
            "object_fit": null,
            "grid_auto_columns": null,
            "margin": null,
            "display": null,
            "left": null
          }
        },
        "980af4bf7e9145748ec4e4a21255c405": {
          "model_module": "@jupyter-widgets/controls",
          "model_name": "DescriptionStyleModel",
          "state": {
            "_view_name": "StyleView",
            "_model_name": "DescriptionStyleModel",
            "description_width": "",
            "_view_module": "@jupyter-widgets/base",
            "_model_module_version": "1.5.0",
            "_view_count": null,
            "_view_module_version": "1.2.0",
            "_model_module": "@jupyter-widgets/controls"
          }
        },
        "6d255c4cbff84e1bb7632fa6dcfcd64a": {
          "model_module": "@jupyter-widgets/base",
          "model_name": "LayoutModel",
          "state": {
            "_view_name": "LayoutView",
            "grid_template_rows": null,
            "right": null,
            "justify_content": null,
            "_view_module": "@jupyter-widgets/base",
            "overflow": null,
            "_model_module_version": "1.2.0",
            "_view_count": null,
            "flex_flow": null,
            "width": null,
            "min_width": null,
            "border": null,
            "align_items": null,
            "bottom": null,
            "_model_module": "@jupyter-widgets/base",
            "top": null,
            "grid_column": null,
            "overflow_y": null,
            "overflow_x": null,
            "grid_auto_flow": null,
            "grid_area": null,
            "grid_template_columns": null,
            "flex": null,
            "_model_name": "LayoutModel",
            "justify_items": null,
            "grid_row": null,
            "max_height": null,
            "align_content": null,
            "visibility": null,
            "align_self": null,
            "height": null,
            "min_height": null,
            "padding": null,
            "grid_auto_rows": null,
            "grid_gap": null,
            "max_width": null,
            "order": null,
            "_view_module_version": "1.2.0",
            "grid_template_areas": null,
            "object_position": null,
            "object_fit": null,
            "grid_auto_columns": null,
            "margin": null,
            "display": null,
            "left": null
          }
        },
        "70ba03893c334612a52ae8cfa49e0583": {
          "model_module": "@jupyter-widgets/controls",
          "model_name": "HBoxModel",
          "state": {
            "_view_name": "HBoxView",
            "_dom_classes": [],
            "_model_name": "HBoxModel",
            "_view_module": "@jupyter-widgets/controls",
            "_model_module_version": "1.5.0",
            "_view_count": null,
            "_view_module_version": "1.5.0",
            "box_style": "",
            "layout": "IPY_MODEL_04a743d7a6014299829f6feff8f1f468",
            "_model_module": "@jupyter-widgets/controls",
            "children": [
              "IPY_MODEL_e0806c2a4d8d48d5a427e3704d40351d",
              "IPY_MODEL_3f15db20c0e74bc8a6e2a64468ee8631",
              "IPY_MODEL_bbf9b74296324e128a91c35a165e73d6"
            ]
          }
        },
        "04a743d7a6014299829f6feff8f1f468": {
          "model_module": "@jupyter-widgets/base",
          "model_name": "LayoutModel",
          "state": {
            "_view_name": "LayoutView",
            "grid_template_rows": null,
            "right": null,
            "justify_content": null,
            "_view_module": "@jupyter-widgets/base",
            "overflow": null,
            "_model_module_version": "1.2.0",
            "_view_count": null,
            "flex_flow": null,
            "width": null,
            "min_width": null,
            "border": null,
            "align_items": null,
            "bottom": null,
            "_model_module": "@jupyter-widgets/base",
            "top": null,
            "grid_column": null,
            "overflow_y": null,
            "overflow_x": null,
            "grid_auto_flow": null,
            "grid_area": null,
            "grid_template_columns": null,
            "flex": null,
            "_model_name": "LayoutModel",
            "justify_items": null,
            "grid_row": null,
            "max_height": null,
            "align_content": null,
            "visibility": null,
            "align_self": null,
            "height": null,
            "min_height": null,
            "padding": null,
            "grid_auto_rows": null,
            "grid_gap": null,
            "max_width": null,
            "order": null,
            "_view_module_version": "1.2.0",
            "grid_template_areas": null,
            "object_position": null,
            "object_fit": null,
            "grid_auto_columns": null,
            "margin": null,
            "display": null,
            "left": null
          }
        },
        "e0806c2a4d8d48d5a427e3704d40351d": {
          "model_module": "@jupyter-widgets/controls",
          "model_name": "HTMLModel",
          "state": {
            "_view_name": "HTMLView",
            "style": "IPY_MODEL_8894d82b7ac5460ba339a64f9619a6af",
            "_dom_classes": [],
            "description": "",
            "_model_name": "HTMLModel",
            "placeholder": "​",
            "_view_module": "@jupyter-widgets/controls",
            "_model_module_version": "1.5.0",
            "value": "100%",
            "_view_count": null,
            "_view_module_version": "1.5.0",
            "description_tooltip": null,
            "_model_module": "@jupyter-widgets/controls",
            "layout": "IPY_MODEL_ace0e7ae2dba4a83b8d436575dca70bd"
          }
        },
        "3f15db20c0e74bc8a6e2a64468ee8631": {
          "model_module": "@jupyter-widgets/controls",
          "model_name": "FloatProgressModel",
          "state": {
            "_view_name": "ProgressView",
            "style": "IPY_MODEL_560f42bb15a84d39b369bfb0bd9cb84e",
            "_dom_classes": [],
            "description": "",
            "_model_name": "FloatProgressModel",
            "bar_style": "success",
            "max": 100000,
            "_view_module": "@jupyter-widgets/controls",
            "_model_module_version": "1.5.0",
            "value": 100000,
            "_view_count": null,
            "_view_module_version": "1.5.0",
            "orientation": "horizontal",
            "min": 0,
            "description_tooltip": null,
            "_model_module": "@jupyter-widgets/controls",
            "layout": "IPY_MODEL_6c82782dfdc94f0d9a110caa70ed8847"
          }
        },
        "bbf9b74296324e128a91c35a165e73d6": {
          "model_module": "@jupyter-widgets/controls",
          "model_name": "HTMLModel",
          "state": {
            "_view_name": "HTMLView",
            "style": "IPY_MODEL_876e34c8d9554090b6e6d6883aa682c1",
            "_dom_classes": [],
            "description": "",
            "_model_name": "HTMLModel",
            "placeholder": "​",
            "_view_module": "@jupyter-widgets/controls",
            "_model_module_version": "1.5.0",
            "value": " 100000/100000 [7:05:50&lt;00:00,  6.27s/it]",
            "_view_count": null,
            "_view_module_version": "1.5.0",
            "description_tooltip": null,
            "_model_module": "@jupyter-widgets/controls",
            "layout": "IPY_MODEL_551a851206c2469d992d56d9be710a91"
          }
        },
        "8894d82b7ac5460ba339a64f9619a6af": {
          "model_module": "@jupyter-widgets/controls",
          "model_name": "DescriptionStyleModel",
          "state": {
            "_view_name": "StyleView",
            "_model_name": "DescriptionStyleModel",
            "description_width": "",
            "_view_module": "@jupyter-widgets/base",
            "_model_module_version": "1.5.0",
            "_view_count": null,
            "_view_module_version": "1.2.0",
            "_model_module": "@jupyter-widgets/controls"
          }
        },
        "ace0e7ae2dba4a83b8d436575dca70bd": {
          "model_module": "@jupyter-widgets/base",
          "model_name": "LayoutModel",
          "state": {
            "_view_name": "LayoutView",
            "grid_template_rows": null,
            "right": null,
            "justify_content": null,
            "_view_module": "@jupyter-widgets/base",
            "overflow": null,
            "_model_module_version": "1.2.0",
            "_view_count": null,
            "flex_flow": null,
            "width": null,
            "min_width": null,
            "border": null,
            "align_items": null,
            "bottom": null,
            "_model_module": "@jupyter-widgets/base",
            "top": null,
            "grid_column": null,
            "overflow_y": null,
            "overflow_x": null,
            "grid_auto_flow": null,
            "grid_area": null,
            "grid_template_columns": null,
            "flex": null,
            "_model_name": "LayoutModel",
            "justify_items": null,
            "grid_row": null,
            "max_height": null,
            "align_content": null,
            "visibility": null,
            "align_self": null,
            "height": null,
            "min_height": null,
            "padding": null,
            "grid_auto_rows": null,
            "grid_gap": null,
            "max_width": null,
            "order": null,
            "_view_module_version": "1.2.0",
            "grid_template_areas": null,
            "object_position": null,
            "object_fit": null,
            "grid_auto_columns": null,
            "margin": null,
            "display": null,
            "left": null
          }
        },
        "560f42bb15a84d39b369bfb0bd9cb84e": {
          "model_module": "@jupyter-widgets/controls",
          "model_name": "ProgressStyleModel",
          "state": {
            "_view_name": "StyleView",
            "_model_name": "ProgressStyleModel",
            "description_width": "",
            "_view_module": "@jupyter-widgets/base",
            "_model_module_version": "1.5.0",
            "_view_count": null,
            "_view_module_version": "1.2.0",
            "bar_color": null,
            "_model_module": "@jupyter-widgets/controls"
          }
        },
        "6c82782dfdc94f0d9a110caa70ed8847": {
          "model_module": "@jupyter-widgets/base",
          "model_name": "LayoutModel",
          "state": {
            "_view_name": "LayoutView",
            "grid_template_rows": null,
            "right": null,
            "justify_content": null,
            "_view_module": "@jupyter-widgets/base",
            "overflow": null,
            "_model_module_version": "1.2.0",
            "_view_count": null,
            "flex_flow": null,
            "width": null,
            "min_width": null,
            "border": null,
            "align_items": null,
            "bottom": null,
            "_model_module": "@jupyter-widgets/base",
            "top": null,
            "grid_column": null,
            "overflow_y": null,
            "overflow_x": null,
            "grid_auto_flow": null,
            "grid_area": null,
            "grid_template_columns": null,
            "flex": null,
            "_model_name": "LayoutModel",
            "justify_items": null,
            "grid_row": null,
            "max_height": null,
            "align_content": null,
            "visibility": null,
            "align_self": null,
            "height": null,
            "min_height": null,
            "padding": null,
            "grid_auto_rows": null,
            "grid_gap": null,
            "max_width": null,
            "order": null,
            "_view_module_version": "1.2.0",
            "grid_template_areas": null,
            "object_position": null,
            "object_fit": null,
            "grid_auto_columns": null,
            "margin": null,
            "display": null,
            "left": null
          }
        },
        "876e34c8d9554090b6e6d6883aa682c1": {
          "model_module": "@jupyter-widgets/controls",
          "model_name": "DescriptionStyleModel",
          "state": {
            "_view_name": "StyleView",
            "_model_name": "DescriptionStyleModel",
            "description_width": "",
            "_view_module": "@jupyter-widgets/base",
            "_model_module_version": "1.5.0",
            "_view_count": null,
            "_view_module_version": "1.2.0",
            "_model_module": "@jupyter-widgets/controls"
          }
        },
        "551a851206c2469d992d56d9be710a91": {
          "model_module": "@jupyter-widgets/base",
          "model_name": "LayoutModel",
          "state": {
            "_view_name": "LayoutView",
            "grid_template_rows": null,
            "right": null,
            "justify_content": null,
            "_view_module": "@jupyter-widgets/base",
            "overflow": null,
            "_model_module_version": "1.2.0",
            "_view_count": null,
            "flex_flow": null,
            "width": null,
            "min_width": null,
            "border": null,
            "align_items": null,
            "bottom": null,
            "_model_module": "@jupyter-widgets/base",
            "top": null,
            "grid_column": null,
            "overflow_y": null,
            "overflow_x": null,
            "grid_auto_flow": null,
            "grid_area": null,
            "grid_template_columns": null,
            "flex": null,
            "_model_name": "LayoutModel",
            "justify_items": null,
            "grid_row": null,
            "max_height": null,
            "align_content": null,
            "visibility": null,
            "align_self": null,
            "height": null,
            "min_height": null,
            "padding": null,
            "grid_auto_rows": null,
            "grid_gap": null,
            "max_width": null,
            "order": null,
            "_view_module_version": "1.2.0",
            "grid_template_areas": null,
            "object_position": null,
            "object_fit": null,
            "grid_auto_columns": null,
            "margin": null,
            "display": null,
            "left": null
          }
        }
      }
    }
  },
  "cells": [
    {
      "cell_type": "markdown",
      "metadata": {
        "id": "view-in-github",
        "colab_type": "text"
      },
      "source": [
        "<a href=\"https://colab.research.google.com/github/dashnak90/mt5_translator/blob/daria/mT5_Translator_final.ipynb\" target=\"_parent\"><img src=\"https://colab.research.google.com/assets/colab-badge.svg\" alt=\"Open In Colab\"/></a>"
      ]
    },
    {
      "cell_type": "markdown",
      "metadata": {
        "id": "La-BnM5ydqwF"
      },
      "source": [
        "***Load libraries and data***"
      ]
    },
    {
      "cell_type": "code",
      "metadata": {
        "colab": {
          "base_uri": "https://localhost:8080/"
        },
        "id": "2a609pb6dKqA",
        "outputId": "e2d75a23-4972-47ae-f4ef-24febc292f73"
      },
      "source": [
        "!pip install transformers sentencepiece datasets"
      ],
      "execution_count": 1,
      "outputs": [
        {
          "output_type": "stream",
          "text": [
            "Collecting transformers\n",
            "  Downloading transformers-4.9.1-py3-none-any.whl (2.6 MB)\n",
            "\u001b[K     |████████████████████████████████| 2.6 MB 4.1 MB/s \n",
            "\u001b[?25hCollecting sentencepiece\n",
            "  Downloading sentencepiece-0.1.96-cp37-cp37m-manylinux_2_17_x86_64.manylinux2014_x86_64.whl (1.2 MB)\n",
            "\u001b[K     |████████████████████████████████| 1.2 MB 23.5 MB/s \n",
            "\u001b[?25hCollecting datasets\n",
            "  Downloading datasets-1.11.0-py3-none-any.whl (264 kB)\n",
            "\u001b[K     |████████████████████████████████| 264 kB 40.9 MB/s \n",
            "\u001b[?25hCollecting huggingface-hub==0.0.12\n",
            "  Downloading huggingface_hub-0.0.12-py3-none-any.whl (37 kB)\n",
            "Collecting sacremoses\n",
            "  Downloading sacremoses-0.0.45-py3-none-any.whl (895 kB)\n",
            "\u001b[K     |████████████████████████████████| 895 kB 38.6 MB/s \n",
            "\u001b[?25hRequirement already satisfied: importlib-metadata in /usr/local/lib/python3.7/dist-packages (from transformers) (4.6.1)\n",
            "Requirement already satisfied: requests in /usr/local/lib/python3.7/dist-packages (from transformers) (2.23.0)\n",
            "Requirement already satisfied: regex!=2019.12.17 in /usr/local/lib/python3.7/dist-packages (from transformers) (2019.12.20)\n",
            "Requirement already satisfied: packaging in /usr/local/lib/python3.7/dist-packages (from transformers) (21.0)\n",
            "Requirement already satisfied: numpy>=1.17 in /usr/local/lib/python3.7/dist-packages (from transformers) (1.19.5)\n",
            "Collecting tokenizers<0.11,>=0.10.1\n",
            "  Downloading tokenizers-0.10.3-cp37-cp37m-manylinux_2_5_x86_64.manylinux1_x86_64.manylinux_2_12_x86_64.manylinux2010_x86_64.whl (3.3 MB)\n",
            "\u001b[K     |████████████████████████████████| 3.3 MB 52.1 MB/s \n",
            "\u001b[?25hRequirement already satisfied: tqdm>=4.27 in /usr/local/lib/python3.7/dist-packages (from transformers) (4.41.1)\n",
            "Collecting pyyaml>=5.1\n",
            "  Downloading PyYAML-5.4.1-cp37-cp37m-manylinux1_x86_64.whl (636 kB)\n",
            "\u001b[K     |████████████████████████████████| 636 kB 53.4 MB/s \n",
            "\u001b[?25hRequirement already satisfied: filelock in /usr/local/lib/python3.7/dist-packages (from transformers) (3.0.12)\n",
            "Requirement already satisfied: typing-extensions in /usr/local/lib/python3.7/dist-packages (from huggingface-hub==0.0.12->transformers) (3.7.4.3)\n",
            "Requirement already satisfied: pyparsing>=2.0.2 in /usr/local/lib/python3.7/dist-packages (from packaging->transformers) (2.4.7)\n",
            "Collecting tqdm>=4.27\n",
            "  Downloading tqdm-4.62.0-py2.py3-none-any.whl (76 kB)\n",
            "\u001b[K     |████████████████████████████████| 76 kB 4.6 MB/s \n",
            "\u001b[?25hRequirement already satisfied: pandas in /usr/local/lib/python3.7/dist-packages (from datasets) (1.1.5)\n",
            "Requirement already satisfied: dill in /usr/local/lib/python3.7/dist-packages (from datasets) (0.3.4)\n",
            "Requirement already satisfied: multiprocess in /usr/local/lib/python3.7/dist-packages (from datasets) (0.70.12.2)\n",
            "Requirement already satisfied: pyarrow!=4.0.0,>=1.0.0 in /usr/local/lib/python3.7/dist-packages (from datasets) (3.0.0)\n",
            "Collecting xxhash\n",
            "  Downloading xxhash-2.0.2-cp37-cp37m-manylinux2010_x86_64.whl (243 kB)\n",
            "\u001b[K     |████████████████████████████████| 243 kB 57.9 MB/s \n",
            "\u001b[?25hCollecting fsspec>=2021.05.0\n",
            "  Downloading fsspec-2021.7.0-py3-none-any.whl (118 kB)\n",
            "\u001b[K     |████████████████████████████████| 118 kB 63.9 MB/s \n",
            "\u001b[?25hRequirement already satisfied: chardet<4,>=3.0.2 in /usr/local/lib/python3.7/dist-packages (from requests->transformers) (3.0.4)\n",
            "Requirement already satisfied: urllib3!=1.25.0,!=1.25.1,<1.26,>=1.21.1 in /usr/local/lib/python3.7/dist-packages (from requests->transformers) (1.24.3)\n",
            "Requirement already satisfied: idna<3,>=2.5 in /usr/local/lib/python3.7/dist-packages (from requests->transformers) (2.10)\n",
            "Requirement already satisfied: certifi>=2017.4.17 in /usr/local/lib/python3.7/dist-packages (from requests->transformers) (2021.5.30)\n",
            "Requirement already satisfied: zipp>=0.5 in /usr/local/lib/python3.7/dist-packages (from importlib-metadata->transformers) (3.5.0)\n",
            "Requirement already satisfied: python-dateutil>=2.7.3 in /usr/local/lib/python3.7/dist-packages (from pandas->datasets) (2.8.1)\n",
            "Requirement already satisfied: pytz>=2017.2 in /usr/local/lib/python3.7/dist-packages (from pandas->datasets) (2018.9)\n",
            "Requirement already satisfied: six>=1.5 in /usr/local/lib/python3.7/dist-packages (from python-dateutil>=2.7.3->pandas->datasets) (1.15.0)\n",
            "Requirement already satisfied: click in /usr/local/lib/python3.7/dist-packages (from sacremoses->transformers) (7.1.2)\n",
            "Requirement already satisfied: joblib in /usr/local/lib/python3.7/dist-packages (from sacremoses->transformers) (1.0.1)\n",
            "Installing collected packages: tqdm, xxhash, tokenizers, sacremoses, pyyaml, huggingface-hub, fsspec, transformers, sentencepiece, datasets\n",
            "  Attempting uninstall: tqdm\n",
            "    Found existing installation: tqdm 4.41.1\n",
            "    Uninstalling tqdm-4.41.1:\n",
            "      Successfully uninstalled tqdm-4.41.1\n",
            "  Attempting uninstall: pyyaml\n",
            "    Found existing installation: PyYAML 3.13\n",
            "    Uninstalling PyYAML-3.13:\n",
            "      Successfully uninstalled PyYAML-3.13\n",
            "Successfully installed datasets-1.11.0 fsspec-2021.7.0 huggingface-hub-0.0.12 pyyaml-5.4.1 sacremoses-0.0.45 sentencepiece-0.1.96 tokenizers-0.10.3 tqdm-4.62.0 transformers-4.9.1 xxhash-2.0.2\n"
          ],
          "name": "stdout"
        }
      ]
    },
    {
      "cell_type": "code",
      "metadata": {
        "id": "F5m4W5h7cmDn",
        "colab": {
          "base_uri": "https://localhost:8080/"
        },
        "outputId": "53e2972c-6194-465d-b354-bf72cec9647f"
      },
      "source": [
        "from datasets import load_dataset\n",
        "from google.colab import drive\n",
        "from IPython.display import display\n",
        "from IPython.html import widgets\n",
        "import matplotlib.pyplot as plt\n",
        "import numpy as np\n",
        "import seaborn as sns\n",
        "import torch\n",
        "from torch import optim\n",
        "from torch.nn import functional as F\n",
        "from transformers import AdamW, AutoModelForSeq2SeqLM, AutoTokenizer\n",
        "from transformers import get_linear_schedule_with_warmup\n",
        "from tqdm import tqdm_notebook\n",
        "import pandas as pd\n",
        "\n",
        "sns.set()"
      ],
      "execution_count": 2,
      "outputs": [
        {
          "output_type": "stream",
          "text": [
            "/usr/local/lib/python3.7/dist-packages/IPython/html.py:14: ShimWarning: The `IPython.html` package has been deprecated since IPython 4.0. You should import from `notebook` instead. `IPython.html.widgets` has moved to `ipywidgets`.\n",
            "  \"`IPython.html.widgets` has moved to `ipywidgets`.\", ShimWarning)\n"
          ],
          "name": "stderr"
        }
      ]
    },
    {
      "cell_type": "code",
      "metadata": {
        "colab": {
          "base_uri": "https://localhost:8080/"
        },
        "id": "Y8IM3iH4SmzI",
        "outputId": "7f0f4180-1007-45bb-cf35-f1b4d6e984ba"
      },
      "source": [
        "drive.mount('/content/gdrive')"
      ],
      "execution_count": 3,
      "outputs": [
        {
          "output_type": "stream",
          "text": [
            "Mounted at /content/gdrive\n"
          ],
          "name": "stdout"
        }
      ]
    },
    {
      "cell_type": "code",
      "metadata": {
        "id": "3GVz0CbUpcL1"
      },
      "source": [
        "mkdir static"
      ],
      "execution_count": null,
      "outputs": []
    },
    {
      "cell_type": "code",
      "metadata": {
        "id": "Ti_4jxvspjaN"
      },
      "source": [
        "mkdir templates"
      ],
      "execution_count": null,
      "outputs": []
    },
    {
      "cell_type": "code",
      "metadata": {
        "id": "eQ6ZT4x6Z3zx"
      },
      "source": [
        "train_df = pd.read_csv(\"gdrive/MyDrive/train.tsv\", sep=\"\\t\", index_col=0).astype(str)\n",
        "eval_df = pd.read_csv(\"gdrive/MyDrive/eval.tsv\", sep=\"\\t\",index_col=0).astype(str)\n",
        "\n",
        "#train_df[\"prefix\"] = \"\"\n",
        "#eval_df[\"prefix\"] = \"\""
      ],
      "execution_count": 4,
      "outputs": []
    },
    {
      "cell_type": "code",
      "metadata": {
        "id": "TmkmzYNOQ9xC"
      },
      "source": [
        "model_repo = 'google/mt5-base'\n",
        "model_path = '/content/gdrive/My Drive/mt5_translation-3.pt'\n",
        "max_seq_len = 40"
      ],
      "execution_count": 5,
      "outputs": []
    },
    {
      "cell_type": "markdown",
      "metadata": {
        "id": "0NqtxkeydheY"
      },
      "source": [
        "**Load tokenizer and model**"
      ]
    },
    {
      "cell_type": "code",
      "metadata": {
        "id": "ZAXKisA8FuAR",
        "colab": {
          "base_uri": "https://localhost:8080/",
          "height": 172,
          "referenced_widgets": [
            "2a5724eeeef64b5ca235be907c8cd1da",
            "337faab88e054105b164d1c5e8e836bd",
            "e85e207a45eb4328bf43cc1be393dd6a",
            "8ee02843fcbb4e5091c85ff5af9ba5d5",
            "f3808bf90eaf4faa979ffdc2f098d069",
            "644cded83c6c4114af2c90fb8c901250",
            "4e17b31477174442b8026efd0c18f34a",
            "6f464f960e854446b4726156f4588bd8",
            "94a04219cbef4d42804029a3239f1118",
            "364d4055eab948e1acb8bb2a0cc2ab5a",
            "fb198753ffe747398e7d1a0ea6e923fa",
            "31821566ec084ac5a06ac634f40d0ec8",
            "06a8880b174e442bbdbe8fcfe50d20e4",
            "257668b8faf04e24946964fed55af42b",
            "f8048af5b9fb4856a89dd5d6edac574e",
            "9ff5c4d1c0a94c30ac781587e3019326",
            "7ddf0aa691844bcc9e5b390d9d4109de",
            "1e25b7f967a24965b418e3e6f2f87410",
            "0bcba196d8a549b1847e8ab56ab882d1",
            "952d55ee2fd04c0e9bdc75d280c3f287",
            "ebd1ce54bc2b4b519ee317cee4d8199d",
            "a577c0db30724d12999068e2d8ce8a56",
            "687985a638f849d8bb0355b21a9f2db0",
            "318e3f1e3bf34565a44bb42562eb28c8",
            "65456a440aef474c95939c0d1b53e204",
            "c8be890aa62f4f289a3a178a8846ad69",
            "b9be84230dab46b2883973e7f2a0c993",
            "ee72f02b9b154aeda7135ec2917a8eea",
            "c079241d127d4fb0b536748a380fad8e",
            "d3c56d19786d4a3aa0dcd0595e41241c",
            "252eaf57945d4dd9b88459d0aed2a553",
            "c61700c95e4a45df818b8c47374ff528",
            "147fa343071246b69c453aa823adc778",
            "dc1b9cd0d484462eb147ffe7deb15ada",
            "6b0f5d1015be40d7b5ed2d8afc9ea504",
            "8a8cee8426e843b58c8bf906db5d5b9e",
            "444f70354b224864b91b60433c3ef931",
            "d47cec07a96140319f6fa521a496badf",
            "db4f809ec8104b8487b03e721be77787",
            "a06de87546184d7cadff6d1e5dffd988",
            "889ec41d5c1f4a368582cd0e1f41af6d",
            "afc3dd2de5004d53be989b19e7c1e476",
            "5ffb380b0de945cca9dd52053be2c008",
            "ebe78c4faa9d48219111d36e7babfbaa"
          ]
        },
        "outputId": "ea8dee4f-314f-496d-83a1-8c3849b2e5e0"
      },
      "source": [
        "tokenizer = AutoTokenizer.from_pretrained(model_repo)"
      ],
      "execution_count": 6,
      "outputs": [
        {
          "output_type": "display_data",
          "data": {
            "application/vnd.jupyter.widget-view+json": {
              "model_id": "2a5724eeeef64b5ca235be907c8cd1da",
              "version_minor": 0,
              "version_major": 2
            },
            "text/plain": [
              "Downloading:   0%|          | 0.00/376 [00:00<?, ?B/s]"
            ]
          },
          "metadata": {
            "tags": []
          }
        },
        {
          "output_type": "display_data",
          "data": {
            "application/vnd.jupyter.widget-view+json": {
              "model_id": "31821566ec084ac5a06ac634f40d0ec8",
              "version_minor": 0,
              "version_major": 2
            },
            "text/plain": [
              "Downloading:   0%|          | 0.00/702 [00:00<?, ?B/s]"
            ]
          },
          "metadata": {
            "tags": []
          }
        },
        {
          "output_type": "display_data",
          "data": {
            "application/vnd.jupyter.widget-view+json": {
              "model_id": "687985a638f849d8bb0355b21a9f2db0",
              "version_minor": 0,
              "version_major": 2
            },
            "text/plain": [
              "Downloading:   0%|          | 0.00/4.31M [00:00<?, ?B/s]"
            ]
          },
          "metadata": {
            "tags": []
          }
        },
        {
          "output_type": "display_data",
          "data": {
            "application/vnd.jupyter.widget-view+json": {
              "model_id": "dc1b9cd0d484462eb147ffe7deb15ada",
              "version_minor": 0,
              "version_major": 2
            },
            "text/plain": [
              "Downloading:   0%|          | 0.00/65.0 [00:00<?, ?B/s]"
            ]
          },
          "metadata": {
            "tags": []
          }
        }
      ]
    },
    {
      "cell_type": "code",
      "metadata": {
        "id": "En-NjwOrUgJN",
        "colab": {
          "base_uri": "https://localhost:8080/",
          "height": 48,
          "referenced_widgets": [
            "e8929d1353484c9e8196bf42b9cae61d",
            "cc3bc3fd5e9b4b3ea5c25548a25b2d26",
            "bcb8b35ffa3c4c3597a0ebad4783c410",
            "1d4af4aaab33499cbd8610d6e960f799",
            "90050fe019e6418ab17e076ec30a6e5d",
            "4b4203db50384d6aad7d70db0f026f9c",
            "fa712541d9d4469dbc4d4e6a3b264f77",
            "9db6518696d74d0ebf09b842fe49d2cf",
            "ab2ec4d3def7484a9178c481675f289a",
            "980af4bf7e9145748ec4e4a21255c405",
            "6d255c4cbff84e1bb7632fa6dcfcd64a"
          ]
        },
        "outputId": "5026ec34-deb3-4962-8673-871137a4acbd"
      },
      "source": [
        "# Model description: https://huggingface.co/google/mt5-small\n",
        "model = AutoModelForSeq2SeqLM.from_pretrained(model_repo)\n",
        "model = model.cuda()"
      ],
      "execution_count": null,
      "outputs": [
        {
          "output_type": "display_data",
          "data": {
            "application/vnd.jupyter.widget-view+json": {
              "model_id": "e8929d1353484c9e8196bf42b9cae61d",
              "version_minor": 0,
              "version_major": 2
            },
            "text/plain": [
              "Downloading:   0%|          | 0.00/2.33G [00:00<?, ?B/s]"
            ]
          },
          "metadata": {
            "tags": []
          }
        }
      ]
    },
    {
      "cell_type": "markdown",
      "metadata": {
        "id": "fZtWE4e34zgD"
      },
      "source": [
        "**Add prefixes to tokenizer**"
      ]
    },
    {
      "cell_type": "code",
      "metadata": {
        "id": "lEIZghqy52Sg"
      },
      "source": [
        "model.config.max_length=40"
      ],
      "execution_count": null,
      "outputs": []
    },
    {
      "cell_type": "code",
      "metadata": {
        "colab": {
          "base_uri": "https://localhost:8080/"
        },
        "id": "yKnY4QSOIzkj",
        "outputId": "37d2cb75-6e4c-4770-a508-27eba24c9bac"
      },
      "source": [
        "len(tokenizer.vocab)"
      ],
      "execution_count": null,
      "outputs": [
        {
          "output_type": "execute_result",
          "data": {
            "text/plain": [
              "250100"
            ]
          },
          "metadata": {
            "tags": []
          },
          "execution_count": 8
        }
      ]
    },
    {
      "cell_type": "code",
      "metadata": {
        "id": "itQfraKqHoXT",
        "colab": {
          "base_uri": "https://localhost:8080/"
        },
        "outputId": "42d619bf-d17c-4702-aa1a-a80be1a52fb2"
      },
      "source": [
        "train_df['prefix'].unique()"
      ],
      "execution_count": 7,
      "outputs": [
        {
          "output_type": "execute_result",
          "data": {
            "text/plain": [
              "array(['rus.eng', 'eng.rus', 'ger.eng', 'eng.ger'], dtype=object)"
            ]
          },
          "metadata": {
            "tags": []
          },
          "execution_count": 7
        }
      ]
    },
    {
      "cell_type": "code",
      "metadata": {
        "id": "ydBXAHaqPGeF"
      },
      "source": [
        "LANG_TOKEN_MAPPING = {\n",
        "    'rus.eng': '<rus.eng>',\n",
        "    'eng.rus': '<eng.rus>',\n",
        "      'ger.eng': '<ger.eng>',\n",
        "    'eng.ger': '<eng.ger>'\n",
        "}"
      ],
      "execution_count": 8,
      "outputs": []
    },
    {
      "cell_type": "code",
      "metadata": {
        "colab": {
          "base_uri": "https://localhost:8080/"
        },
        "id": "Zsk4kjvDICsN",
        "outputId": "e8c7c05f-b900-4c39-a36b-639da84d2abe"
      },
      "source": [
        "special_tokens_dict = {'additional_special_tokens': list(LANG_TOKEN_MAPPING.values())}\n",
        "special_tokens_dict"
      ],
      "execution_count": 9,
      "outputs": [
        {
          "output_type": "execute_result",
          "data": {
            "text/plain": [
              "{'additional_special_tokens': ['<rus.eng>',\n",
              "  '<eng.rus>',\n",
              "  '<ger.eng>',\n",
              "  '<eng.ger>']}"
            ]
          },
          "metadata": {
            "tags": []
          },
          "execution_count": 9
        }
      ]
    },
    {
      "cell_type": "code",
      "metadata": {
        "colab": {
          "base_uri": "https://localhost:8080/"
        },
        "id": "Kv9FIdg5JIpP",
        "outputId": "5d94b634-d00a-4555-af2d-59cc44838f52"
      },
      "source": [
        "tokenizer.add_special_tokens(special_tokens_dict)"
      ],
      "execution_count": 10,
      "outputs": [
        {
          "output_type": "execute_result",
          "data": {
            "text/plain": [
              "4"
            ]
          },
          "metadata": {
            "tags": []
          },
          "execution_count": 10
        }
      ]
    },
    {
      "cell_type": "code",
      "metadata": {
        "colab": {
          "base_uri": "https://localhost:8080/"
        },
        "id": "-Ql5zdEhJS7t",
        "outputId": "a48b3e55-3968-47fa-b48b-27889bbc0dcd"
      },
      "source": [
        "len(tokenizer)"
      ],
      "execution_count": 11,
      "outputs": [
        {
          "output_type": "execute_result",
          "data": {
            "text/plain": [
              "250104"
            ]
          },
          "metadata": {
            "tags": []
          },
          "execution_count": 11
        }
      ]
    },
    {
      "cell_type": "code",
      "metadata": {
        "colab": {
          "base_uri": "https://localhost:8080/"
        },
        "id": "oaG_NMGuy_ZH",
        "outputId": "dbcd469b-b7eb-4833-98ad-347b26156305"
      },
      "source": [
        "tokenizer.all_special_tokens"
      ],
      "execution_count": 12,
      "outputs": [
        {
          "output_type": "execute_result",
          "data": {
            "text/plain": [
              "['</s>', '<unk>', '<pad>', '<rus.eng>', '<eng.rus>', '<ger.eng>', '<eng.ger>']"
            ]
          },
          "metadata": {
            "tags": []
          },
          "execution_count": 12
        }
      ]
    },
    {
      "cell_type": "code",
      "metadata": {
        "colab": {
          "base_uri": "https://localhost:8080/"
        },
        "id": "3LG399lrLeQz",
        "outputId": "f07f92bf-d7a5-420a-f0bf-7a9ad6cec516"
      },
      "source": [
        "model.config.vocab_size"
      ],
      "execution_count": null,
      "outputs": [
        {
          "output_type": "execute_result",
          "data": {
            "text/plain": [
              "250112"
            ]
          },
          "metadata": {
            "tags": []
          },
          "execution_count": 14
        }
      ]
    },
    {
      "cell_type": "code",
      "metadata": {
        "colab": {
          "base_uri": "https://localhost:8080/"
        },
        "id": "p_a6ur1FTkD_",
        "outputId": "b2342782-b3db-4119-ac3a-b39eae3ddce2"
      },
      "source": [
        "model.resize_token_embeddings(len(tokenizer))"
      ],
      "execution_count": null,
      "outputs": [
        {
          "output_type": "execute_result",
          "data": {
            "text/plain": [
              "Embedding(250104, 768)"
            ]
          },
          "metadata": {
            "tags": []
          },
          "execution_count": 17
        }
      ]
    },
    {
      "cell_type": "markdown",
      "metadata": {
        "id": "NdtW-npjGrxD"
      },
      "source": [
        "**Encoding functions**"
      ]
    },
    {
      "cell_type": "code",
      "metadata": {
        "id": "bB2sv3tMQV3S"
      },
      "source": [
        "def encode_str(text, tokenizer, seq_len):  \n",
        "\"\"\"   Tokenize,pad to max length and encode to ids\n",
        "   Returns tensor with tocken ids\"\"\"\n",
        "  input_ids = tokenizer.encode(\n",
        "      text=text,\n",
        "      return_tensors = 'pt',\n",
        "      padding = 'max_length',\n",
        "      truncation = True,\n",
        "      max_length = seq_len)\n",
        "\n",
        "  return input_ids[0]"
      ],
      "execution_count": 13,
      "outputs": []
    },
    {
      "cell_type": "code",
      "metadata": {
        "colab": {
          "base_uri": "https://localhost:8080/"
        },
        "id": "xNstbyG9RVs5",
        "outputId": "6263eba5-526c-4253-f9ec-01d0842e8d6c"
      },
      "source": [
        "t1=encode_str('<eng.rus> This is a test',tokenizer, max_seq_len)\n",
        "print(t1)\n",
        "tokens = tokenizer.convert_ids_to_tokens(t1)\n",
        "print(tokens)"
      ],
      "execution_count": 15,
      "outputs": [
        {
          "output_type": "stream",
          "text": [
            "tensor([250101,   1494,    339,    259,    262,   2978,      1,      0,      0,\n",
            "             0,      0,      0,      0,      0,      0,      0,      0,      0,\n",
            "             0,      0,      0,      0,      0,      0,      0,      0,      0,\n",
            "             0,      0,      0,      0,      0,      0,      0,      0,      0,\n",
            "             0,      0,      0,      0])\n",
            "['<eng.rus>', '▁This', '▁is', '▁', 'a', '▁test', '</s>', '<pad>', '<pad>', '<pad>', '<pad>', '<pad>', '<pad>', '<pad>', '<pad>', '<pad>', '<pad>', '<pad>', '<pad>', '<pad>', '<pad>', '<pad>', '<pad>', '<pad>', '<pad>', '<pad>', '<pad>', '<pad>', '<pad>', '<pad>', '<pad>', '<pad>', '<pad>', '<pad>', '<pad>', '<pad>', '<pad>', '<pad>', '<pad>', '<pad>']\n"
          ],
          "name": "stdout"
        }
      ]
    },
    {
      "cell_type": "code",
      "metadata": {
        "colab": {
          "base_uri": "https://localhost:8080/"
        },
        "id": "YdH1d4IfTsy8",
        "outputId": "1f8f0e17-a2cb-49c4-ec7b-a2ed37adb31f"
      },
      "source": [
        "t2=encode_str('<rus.eng> тест для конвертации',tokenizer,max_seq_len)\n",
        "print(t2)\n",
        "tokens=tokenizer.convert_ids_to_tokens(t2)\n",
        "print(tokens)"
      ],
      "execution_count": 17,
      "outputs": [
        {
          "output_type": "stream",
          "text": [
            "tensor([250100,  17019,    259,    735, 132896,   7547,      1,      0,      0,\n",
            "             0,      0,      0,      0,      0,      0,      0,      0,      0,\n",
            "             0,      0,      0,      0,      0,      0,      0,      0,      0,\n",
            "             0,      0,      0,      0,      0,      0,      0,      0,      0,\n",
            "             0,      0,      0,      0])\n",
            "['<rus.eng>', '▁тест', '▁', 'для', '▁конверт', 'ации', '</s>', '<pad>', '<pad>', '<pad>', '<pad>', '<pad>', '<pad>', '<pad>', '<pad>', '<pad>', '<pad>', '<pad>', '<pad>', '<pad>', '<pad>', '<pad>', '<pad>', '<pad>', '<pad>', '<pad>', '<pad>', '<pad>', '<pad>', '<pad>', '<pad>', '<pad>', '<pad>', '<pad>', '<pad>', '<pad>', '<pad>', '<pad>', '<pad>', '<pad>']\n"
          ],
          "name": "stdout"
        }
      ]
    },
    {
      "cell_type": "code",
      "metadata": {
        "id": "uP7GLl0GU1ZP"
      },
      "source": [
        "def encode_row(row, tokenizer, seq_len):\n",
        "  \"\"\"Encode input and tagret texts from single row\"\"\"\n",
        "  \"\"\"Returns input and output tensors\"\"\"\n",
        "  input_text = row['input_text']\n",
        "  target_text = row['target_text']\n",
        "\n",
        "  if input_text is None or target_text is None:\n",
        "    return None\n",
        "\n",
        "  input_token_ids = encode_str(\n",
        "      input_text, tokenizer, seq_len)\n",
        "  \n",
        "  target_token_ids = encode_str(\n",
        "      target_text, tokenizer, seq_len)\n",
        "\n",
        "  return input_token_ids, target_token_ids\n"
      ],
      "execution_count": 34,
      "outputs": []
    },
    {
      "cell_type": "code",
      "metadata": {
        "id": "EM2zjC0miReH"
      },
      "source": [
        "def encode_batch(batch, tokenizer):\n",
        "  \"\"\"Encode a single batch\"\"\"\n",
        "  \"\"\"Returns input and output batch ids\"\"\"\n",
        "  inputs = []\n",
        "  targets = []\n",
        "  for index, row in batch.iterrows():\n",
        "    #gets input and output tocken ids\n",
        "    formatted_data = encode_row(\n",
        "        row, tokenizer, max_seq_len)\n",
        "#    print(\"i/o tocken ids:\",formatted_data)    \n",
        "    if formatted_data is None:\n",
        "      continue\n",
        "    \n",
        "    input_ids, target_ids = formatted_data\n",
        "    #unsqueeze(input, dim) returns a new tensor with a dimension of size one inserted at the specified position\n",
        "    inputs.append(input_ids.unsqueeze(0))\n",
        "    targets.append(target_ids.unsqueeze(0))\n",
        "#  print('squeezed tocken ids:',inputs,targets)\n",
        "\n",
        "#Concatenate the given sequence of seq tensors in the given dimension    \n",
        "  batch_input_ids = torch.cat(inputs).cuda()\n",
        "  batch_target_ids = torch.cat(targets).cuda()\n",
        "\n",
        "  return batch_input_ids, batch_target_ids"
      ],
      "execution_count": 27,
      "outputs": []
    },
    {
      "cell_type": "code",
      "metadata": {
        "id": "OJNx4Mw7nlRr"
      },
      "source": [
        "def data_generator(dataset, tokenizer, batch_size=32):\n",
        "  \"\"\"\"generates batches\"\"\"\n",
        "  #shuffle the data\n",
        "  dataset=dataset.sample(frac=1).reset_index(drop=True)\n",
        "\n",
        "  for i in range(0, len(dataset), batch_size):\n",
        "    raw_batch = dataset[i:i+batch_size]\n",
        "    yield encode_batch(raw_batch, tokenizer)"
      ],
      "execution_count": 28,
      "outputs": []
    },
    {
      "cell_type": "code",
      "metadata": {
        "id": "jmdUeqObF_j_",
        "colab": {
          "base_uri": "https://localhost:8080/"
        },
        "outputId": "1aab3f00-d0c6-433b-cc12-0c7f70e71afc"
      },
      "source": [
        "# Testing data generator\n",
        "data_gen = data_generator(train_df, tokenizer, 8)\n",
        "data_batch = next(data_gen)\n",
        "#print('data_batch:',data_batch)\n",
        "print('Input shape:', data_batch[0].shape)\n",
        "print('Output shape:', data_batch[1].shape)\n"
      ],
      "execution_count": 37,
      "outputs": [
        {
          "output_type": "stream",
          "text": [
            "Input shape: torch.Size([8, 40])\n",
            "Output shape: torch.Size([8, 40])\n"
          ],
          "name": "stdout"
        }
      ]
    },
    {
      "cell_type": "markdown",
      "metadata": {
        "id": "cJ1bLU16G-yz"
      },
      "source": [
        "**Load the weights (post-training part)**"
      ]
    },
    {
      "cell_type": "code",
      "metadata": {
        "colab": {
          "base_uri": "https://localhost:8080/"
        },
        "id": "GBhB3Drwp8sF",
        "outputId": "5e18d79b-ecd2-4a5b-b1be-ca1818ca0eb9"
      },
      "source": [
        "model.load_state_dict(torch.load(model_path))"
      ],
      "execution_count": null,
      "outputs": [
        {
          "output_type": "execute_result",
          "data": {
            "text/plain": [
              "<All keys matched successfully>"
            ]
          },
          "metadata": {
            "tags": []
          },
          "execution_count": 20
        }
      ]
    },
    {
      "cell_type": "markdown",
      "metadata": {
        "id": "xaK0zC4QHnPZ"
      },
      "source": [
        "**Training**"
      ]
    },
    {
      "cell_type": "code",
      "metadata": {
        "id": "-4uv5u_FnE2F"
      },
      "source": [
        "n_epochs = 1\n",
        "batch_size = 8\n",
        "print_freq = 1000\n",
        "checkpoint_freq = 10000\n",
        "lr = 5e-4 \n",
        "n_batches = int(np.ceil(len(train_df) / batch_size)) #number of interations : 100000\n",
        "total_steps = n_epochs * n_batches \n",
        "n_warmup_steps = int(total_steps * 0.01) \n"
      ],
      "execution_count": 39,
      "outputs": []
    },
    {
      "cell_type": "code",
      "metadata": {
        "colab": {
          "base_uri": "https://localhost:8080/"
        },
        "id": "O4CxMbzPuhj9",
        "outputId": "7164efd6-932f-4985-970d-fc6c28fffe33"
      },
      "source": [
        "int(np.ceil(len(train_df) / batch_size))"
      ],
      "execution_count": 40,
      "outputs": [
        {
          "output_type": "execute_result",
          "data": {
            "text/plain": [
              "100000"
            ]
          },
          "metadata": {
            "tags": []
          },
          "execution_count": 40
        }
      ]
    },
    {
      "cell_type": "code",
      "metadata": {
        "id": "Yv-85lPx-Oo7"
      },
      "source": [
        "# Optimizer\n",
        "optimizer = AdamW(model.parameters(), lr=lr)\n",
        "# Create a schedule with a learning rate that decreases linearly from the initial lr set in the optimizer to 0, \n",
        "# after a warmup period during which it increases linearly from 0 to the initial lr set in the optimizer.\n",
        "# Warm up steps is a parameter which is used to lower the learning rate \n",
        "# in order to reduce the impact of deviating the model from learning on sudden new data set exposure.\n",
        "scheduler = get_linear_schedule_with_warmup(\n",
        "    optimizer, n_warmup_steps, total_steps)"
      ],
      "execution_count": null,
      "outputs": []
    },
    {
      "cell_type": "code",
      "metadata": {
        "id": "OLN37ltk__ws"
      },
      "source": [
        "losses = []"
      ],
      "execution_count": null,
      "outputs": []
    },
    {
      "cell_type": "code",
      "metadata": {
        "id": "rKU9rtbHWkeB"
      },
      "source": [
        "def eval_model(model, dataset, max_iters=10):\n",
        "  \"\"\"evaluate the model on small test data\"\"\"\n",
        "  test_generator = data_generator(dataset,\n",
        "                                      tokenizer, batch_size)\n",
        "  eval_losses = []\n",
        "  for i, (input_batch, label_batch) in enumerate(test_generator):\n",
        "    if i >= max_iters:\n",
        "      break\n",
        "\n",
        "    model_out = model.forward(\n",
        "        input_ids = input_batch,\n",
        "        labels = label_batch)\n",
        "    eval_losses.append(model_out.loss.item())\n",
        "    \n",
        "\n",
        "  return np.mean(eval_losses)"
      ],
      "execution_count": null,
      "outputs": []
    },
    {
      "cell_type": "code",
      "metadata": {
        "colab": {
          "base_uri": "https://localhost:8080/",
          "height": 1000,
          "referenced_widgets": [
            "70ba03893c334612a52ae8cfa49e0583",
            "04a743d7a6014299829f6feff8f1f468",
            "e0806c2a4d8d48d5a427e3704d40351d",
            "3f15db20c0e74bc8a6e2a64468ee8631",
            "bbf9b74296324e128a91c35a165e73d6",
            "8894d82b7ac5460ba339a64f9619a6af",
            "ace0e7ae2dba4a83b8d436575dca70bd",
            "560f42bb15a84d39b369bfb0bd9cb84e",
            "6c82782dfdc94f0d9a110caa70ed8847",
            "876e34c8d9554090b6e6d6883aa682c1",
            "551a851206c2469d992d56d9be710a91"
          ]
        },
        "id": "Kv8a0jwDnEzK",
        "outputId": "2907f1d4-34c5-4413-b088-6392988625e0"
      },
      "source": [
        "for epoch_idx in range(n_epochs):\n",
        "  # generate batch data\n",
        "  data_generator = data_generator(train_df,\n",
        "                                      tokenizer, batch_size)\n",
        "                \n",
        "  for batch_idx, (input_batch, label_batch) \\\n",
        "      in tqdm_notebook(enumerate(data_generator), total=n_batches):\n",
        "    #zeroes all the gradients before the calculation\n",
        "    optimizer.zero_grad()\n",
        "\n",
        "    # Forward pass\n",
        "    model_out = model.forward(\n",
        "        input_ids = input_batch,\n",
        "        labels = label_batch)\n",
        "\n",
        "    # Calculate loss\n",
        "    loss = model_out.loss\n",
        "    # loss.item() gets the scalar value held in the loss.  item() turns a Tensor into a Python number\n",
        "    losses.append(loss.item())\n",
        "    #backpropagation - computing the gradient of the loss function with respect to each weight\n",
        "    loss.backward()\n",
        "    # updating weights to minimize loss\n",
        "    optimizer.step()\n",
        "    #You call scheduler.step() every batch, right after optimizer.step(), to update the learning rate.\n",
        "    scheduler.step()\n",
        "\n",
        "    # Print training update info\n",
        "    # every 1000 batches\n",
        "    if (batch_idx + 1) % print_freq == 0:\n",
        "      #average loss for the last 1000 batches\n",
        "      avg_loss = np.mean(losses[-print_freq:])\n",
        "      print('Epoch: {} | Step: {} | Avg. loss: {:.3f} | lr: {}'.format(\n",
        "          epoch_idx+1, batch_idx+1, avg_loss, scheduler.get_last_lr()[0]))\n",
        "\n",
        "    #every 10000 batches save the model \n",
        "    if (batch_idx + 1) % checkpoint_freq == 0:\n",
        "      test_loss = eval_model(model, eval_df)\n",
        "      print('Saving model with test loss of {:.3f}'.format(test_loss))\n",
        "      torch.save(model.state_dict(), model_path)\n",
        "\n",
        "torch.save(model.state_dict(), model_path)"
      ],
      "execution_count": null,
      "outputs": [
        {
          "output_type": "stream",
          "text": [
            "/usr/local/lib/python3.7/dist-packages/ipykernel_launcher.py:6: TqdmDeprecationWarning: This function will be removed in tqdm==5.0.0\n",
            "Please use `tqdm.notebook.tqdm` instead of `tqdm.tqdm_notebook`\n",
            "  \n"
          ],
          "name": "stderr"
        },
        {
          "output_type": "display_data",
          "data": {
            "application/vnd.jupyter.widget-view+json": {
              "model_id": "70ba03893c334612a52ae8cfa49e0583",
              "version_minor": 0,
              "version_major": 2
            },
            "text/plain": [
              "  0%|          | 0/100000 [00:00<?, ?it/s]"
            ]
          },
          "metadata": {
            "tags": []
          }
        },
        {
          "output_type": "stream",
          "text": [
            "Epoch: 1 | Step: 500 | Avg. loss: 8.420 | lr: 0.00025\n",
            "Epoch: 1 | Step: 1000 | Avg. loss: 1.914 | lr: 0.0005\n",
            "Epoch: 1 | Step: 1500 | Avg. loss: 1.704 | lr: 0.0004974747474747475\n",
            "Epoch: 1 | Step: 2000 | Avg. loss: 1.508 | lr: 0.000494949494949495\n",
            "Epoch: 1 | Step: 2500 | Avg. loss: 1.480 | lr: 0.0004924242424242425\n",
            "Epoch: 1 | Step: 3000 | Avg. loss: 1.438 | lr: 0.0004898989898989899\n",
            "Epoch: 1 | Step: 3500 | Avg. loss: 1.393 | lr: 0.00048737373737373736\n",
            "Epoch: 1 | Step: 4000 | Avg. loss: 1.370 | lr: 0.0004848484848484849\n",
            "Epoch: 1 | Step: 4500 | Avg. loss: 1.367 | lr: 0.0004823232323232323\n",
            "Epoch: 1 | Step: 5000 | Avg. loss: 1.356 | lr: 0.0004797979797979798\n",
            "Epoch: 1 | Step: 5500 | Avg. loss: 1.335 | lr: 0.0004772727272727273\n",
            "Epoch: 1 | Step: 6000 | Avg. loss: 1.320 | lr: 0.00047474747474747476\n",
            "Epoch: 1 | Step: 6500 | Avg. loss: 1.317 | lr: 0.00047222222222222224\n",
            "Epoch: 1 | Step: 7000 | Avg. loss: 1.289 | lr: 0.0004696969696969697\n",
            "Epoch: 1 | Step: 7500 | Avg. loss: 1.288 | lr: 0.0004671717171717172\n",
            "Epoch: 1 | Step: 8000 | Avg. loss: 1.319 | lr: 0.0004646464646464646\n",
            "Epoch: 1 | Step: 8500 | Avg. loss: 1.310 | lr: 0.0004621212121212121\n",
            "Epoch: 1 | Step: 9000 | Avg. loss: 1.295 | lr: 0.00045959595959595964\n",
            "Epoch: 1 | Step: 9500 | Avg. loss: 1.311 | lr: 0.00045707070707070706\n",
            "Epoch: 1 | Step: 10000 | Avg. loss: 1.293 | lr: 0.00045454545454545455\n",
            "Saving model with test loss of 0.458\n",
            "Epoch: 1 | Step: 10500 | Avg. loss: 1.316 | lr: 0.0004520202020202021\n",
            "Epoch: 1 | Step: 11000 | Avg. loss: 1.312 | lr: 0.0004494949494949495\n",
            "Epoch: 1 | Step: 11500 | Avg. loss: 1.279 | lr: 0.000446969696969697\n",
            "Epoch: 1 | Step: 12000 | Avg. loss: 1.297 | lr: 0.0004444444444444444\n",
            "Epoch: 1 | Step: 12500 | Avg. loss: 1.295 | lr: 0.00044191919191919195\n",
            "Epoch: 1 | Step: 13000 | Avg. loss: 1.279 | lr: 0.0004393939393939394\n",
            "Epoch: 1 | Step: 13500 | Avg. loss: 1.293 | lr: 0.00043686868686868685\n",
            "Epoch: 1 | Step: 14000 | Avg. loss: 1.318 | lr: 0.0004343434343434344\n",
            "Epoch: 1 | Step: 14500 | Avg. loss: 1.293 | lr: 0.0004318181818181818\n",
            "Epoch: 1 | Step: 15000 | Avg. loss: 1.277 | lr: 0.0004292929292929293\n",
            "Epoch: 1 | Step: 15500 | Avg. loss: 1.364 | lr: 0.00042676767676767677\n",
            "Epoch: 1 | Step: 16000 | Avg. loss: 1.352 | lr: 0.00042424242424242425\n",
            "Epoch: 1 | Step: 16500 | Avg. loss: 1.283 | lr: 0.00042171717171717173\n",
            "Epoch: 1 | Step: 17000 | Avg. loss: 1.257 | lr: 0.00041919191919191916\n",
            "Epoch: 1 | Step: 17500 | Avg. loss: 1.281 | lr: 0.0004166666666666667\n",
            "Epoch: 1 | Step: 18000 | Avg. loss: 1.252 | lr: 0.0004141414141414142\n",
            "Epoch: 1 | Step: 18500 | Avg. loss: 1.251 | lr: 0.0004116161616161616\n",
            "Epoch: 1 | Step: 19000 | Avg. loss: 1.243 | lr: 0.00040909090909090913\n",
            "Epoch: 1 | Step: 19500 | Avg. loss: 1.242 | lr: 0.00040656565656565656\n",
            "Epoch: 1 | Step: 20000 | Avg. loss: 1.244 | lr: 0.00040404040404040404\n",
            "Saving model with test loss of 0.521\n",
            "Epoch: 1 | Step: 20500 | Avg. loss: 1.238 | lr: 0.0004015151515151515\n",
            "Epoch: 1 | Step: 21000 | Avg. loss: 1.230 | lr: 0.000398989898989899\n",
            "Epoch: 1 | Step: 21500 | Avg. loss: 1.251 | lr: 0.0003964646464646465\n",
            "Epoch: 1 | Step: 22000 | Avg. loss: 1.235 | lr: 0.0003939393939393939\n",
            "Epoch: 1 | Step: 22500 | Avg. loss: 1.262 | lr: 0.00039141414141414144\n",
            "Epoch: 1 | Step: 23000 | Avg. loss: 1.226 | lr: 0.0003888888888888889\n",
            "Epoch: 1 | Step: 23500 | Avg. loss: 1.229 | lr: 0.00038636363636363635\n",
            "Epoch: 1 | Step: 24000 | Avg. loss: 1.191 | lr: 0.00038383838383838383\n",
            "Epoch: 1 | Step: 24500 | Avg. loss: 1.219 | lr: 0.0003813131313131313\n",
            "Epoch: 1 | Step: 25000 | Avg. loss: 1.202 | lr: 0.0003787878787878788\n",
            "Epoch: 1 | Step: 25500 | Avg. loss: 1.206 | lr: 0.00037626262626262627\n",
            "Epoch: 1 | Step: 26000 | Avg. loss: 1.225 | lr: 0.00037373737373737375\n",
            "Epoch: 1 | Step: 26500 | Avg. loss: 1.212 | lr: 0.00037121212121212123\n",
            "Epoch: 1 | Step: 27000 | Avg. loss: 1.222 | lr: 0.0003686868686868687\n",
            "Epoch: 1 | Step: 27500 | Avg. loss: 1.221 | lr: 0.0003661616161616162\n",
            "Epoch: 1 | Step: 28000 | Avg. loss: 1.169 | lr: 0.00036363636363636367\n",
            "Epoch: 1 | Step: 28500 | Avg. loss: 1.190 | lr: 0.0003611111111111111\n",
            "Epoch: 1 | Step: 29000 | Avg. loss: 1.188 | lr: 0.0003585858585858586\n",
            "Epoch: 1 | Step: 29500 | Avg. loss: 1.213 | lr: 0.0003560606060606061\n",
            "Epoch: 1 | Step: 30000 | Avg. loss: 1.203 | lr: 0.00035353535353535354\n",
            "Saving model with test loss of 0.376\n",
            "Epoch: 1 | Step: 30500 | Avg. loss: 1.209 | lr: 0.000351010101010101\n",
            "Epoch: 1 | Step: 31000 | Avg. loss: 1.195 | lr: 0.0003484848484848485\n",
            "Epoch: 1 | Step: 31500 | Avg. loss: 1.201 | lr: 0.000345959595959596\n",
            "Epoch: 1 | Step: 32000 | Avg. loss: 1.170 | lr: 0.00034343434343434346\n",
            "Epoch: 1 | Step: 32500 | Avg. loss: 1.163 | lr: 0.0003409090909090909\n",
            "Epoch: 1 | Step: 33000 | Avg. loss: 1.144 | lr: 0.0003383838383838384\n",
            "Epoch: 1 | Step: 33500 | Avg. loss: 1.141 | lr: 0.00033585858585858584\n",
            "Epoch: 1 | Step: 34000 | Avg. loss: 1.149 | lr: 0.0003333333333333333\n",
            "Epoch: 1 | Step: 34500 | Avg. loss: 1.266 | lr: 0.00033080808080808086\n",
            "Epoch: 1 | Step: 35000 | Avg. loss: 1.215 | lr: 0.0003282828282828283\n",
            "Epoch: 1 | Step: 35500 | Avg. loss: 1.192 | lr: 0.00032575757575757576\n",
            "Epoch: 1 | Step: 36000 | Avg. loss: 1.155 | lr: 0.00032323232323232324\n",
            "Epoch: 1 | Step: 36500 | Avg. loss: 1.165 | lr: 0.0003207070707070707\n",
            "Epoch: 1 | Step: 37000 | Avg. loss: 1.163 | lr: 0.0003181818181818182\n",
            "Epoch: 1 | Step: 37500 | Avg. loss: 1.150 | lr: 0.00031565656565656563\n",
            "Epoch: 1 | Step: 38000 | Avg. loss: 1.131 | lr: 0.00031313131313131316\n",
            "Epoch: 1 | Step: 38500 | Avg. loss: 1.132 | lr: 0.0003106060606060606\n",
            "Epoch: 1 | Step: 39000 | Avg. loss: 1.099 | lr: 0.00030808080808080807\n",
            "Epoch: 1 | Step: 39500 | Avg. loss: 1.118 | lr: 0.0003055555555555556\n",
            "Epoch: 1 | Step: 40000 | Avg. loss: 1.162 | lr: 0.00030303030303030303\n",
            "Saving model with test loss of 0.366\n",
            "Epoch: 1 | Step: 40500 | Avg. loss: 1.118 | lr: 0.0003005050505050505\n",
            "Epoch: 1 | Step: 41000 | Avg. loss: 1.116 | lr: 0.00029797979797979794\n",
            "Epoch: 1 | Step: 41500 | Avg. loss: 1.149 | lr: 0.00029545454545454547\n",
            "Epoch: 1 | Step: 42000 | Avg. loss: 1.118 | lr: 0.00029292929292929295\n",
            "Epoch: 1 | Step: 42500 | Avg. loss: 1.121 | lr: 0.0002904040404040404\n",
            "Epoch: 1 | Step: 43000 | Avg. loss: 1.099 | lr: 0.0002878787878787879\n",
            "Epoch: 1 | Step: 43500 | Avg. loss: 1.135 | lr: 0.0002853535353535354\n",
            "Epoch: 1 | Step: 44000 | Avg. loss: 1.115 | lr: 0.0002828282828282828\n",
            "Epoch: 1 | Step: 44500 | Avg. loss: 1.120 | lr: 0.0002803030303030303\n",
            "Epoch: 1 | Step: 45000 | Avg. loss: 1.134 | lr: 0.0002777777777777778\n",
            "Epoch: 1 | Step: 45500 | Avg. loss: 1.125 | lr: 0.00027525252525252526\n",
            "Epoch: 1 | Step: 46000 | Avg. loss: 1.095 | lr: 0.00027272727272727274\n",
            "Epoch: 1 | Step: 46500 | Avg. loss: 1.091 | lr: 0.0002702020202020202\n",
            "Epoch: 1 | Step: 47000 | Avg. loss: 1.099 | lr: 0.0002676767676767677\n",
            "Epoch: 1 | Step: 47500 | Avg. loss: 1.081 | lr: 0.0002651515151515151\n",
            "Epoch: 1 | Step: 48000 | Avg. loss: 1.107 | lr: 0.00026262626262626266\n",
            "Epoch: 1 | Step: 48500 | Avg. loss: 1.091 | lr: 0.00026010101010101014\n",
            "Epoch: 1 | Step: 49000 | Avg. loss: 1.086 | lr: 0.00025757575757575756\n",
            "Epoch: 1 | Step: 49500 | Avg. loss: 1.107 | lr: 0.00025505050505050504\n",
            "Epoch: 1 | Step: 50000 | Avg. loss: 1.109 | lr: 0.0002525252525252525\n",
            "Saving model with test loss of 0.393\n",
            "Epoch: 1 | Step: 50500 | Avg. loss: 1.107 | lr: 0.00025\n",
            "Epoch: 1 | Step: 51000 | Avg. loss: 1.119 | lr: 0.0002474747474747475\n",
            "Epoch: 1 | Step: 51500 | Avg. loss: 1.094 | lr: 0.00024494949494949497\n",
            "Epoch: 1 | Step: 52000 | Avg. loss: 1.064 | lr: 0.00024242424242424245\n",
            "Epoch: 1 | Step: 52500 | Avg. loss: 1.092 | lr: 0.0002398989898989899\n",
            "Epoch: 1 | Step: 53000 | Avg. loss: 1.050 | lr: 0.00023737373737373738\n",
            "Epoch: 1 | Step: 53500 | Avg. loss: 1.080 | lr: 0.00023484848484848486\n",
            "Epoch: 1 | Step: 54000 | Avg. loss: 1.084 | lr: 0.0002323232323232323\n",
            "Epoch: 1 | Step: 54500 | Avg. loss: 1.082 | lr: 0.00022979797979797982\n",
            "Epoch: 1 | Step: 55000 | Avg. loss: 1.066 | lr: 0.00022727272727272727\n",
            "Epoch: 1 | Step: 55500 | Avg. loss: 1.084 | lr: 0.00022474747474747475\n",
            "Epoch: 1 | Step: 56000 | Avg. loss: 1.058 | lr: 0.0002222222222222222\n",
            "Epoch: 1 | Step: 56500 | Avg. loss: 1.081 | lr: 0.0002196969696969697\n",
            "Epoch: 1 | Step: 57000 | Avg. loss: 1.074 | lr: 0.0002171717171717172\n",
            "Epoch: 1 | Step: 57500 | Avg. loss: 1.047 | lr: 0.00021464646464646465\n",
            "Epoch: 1 | Step: 58000 | Avg. loss: 1.059 | lr: 0.00021212121212121213\n",
            "Epoch: 1 | Step: 58500 | Avg. loss: 1.043 | lr: 0.00020959595959595958\n",
            "Epoch: 1 | Step: 59000 | Avg. loss: 1.052 | lr: 0.0002070707070707071\n",
            "Epoch: 1 | Step: 59500 | Avg. loss: 1.054 | lr: 0.00020454545454545457\n",
            "Epoch: 1 | Step: 60000 | Avg. loss: 1.023 | lr: 0.00020202020202020202\n",
            "Saving model with test loss of 0.317\n",
            "Epoch: 1 | Step: 60500 | Avg. loss: 1.073 | lr: 0.0001994949494949495\n",
            "Epoch: 1 | Step: 61000 | Avg. loss: 1.077 | lr: 0.00019696969696969695\n",
            "Epoch: 1 | Step: 61500 | Avg. loss: 1.077 | lr: 0.00019444444444444446\n",
            "Epoch: 1 | Step: 62000 | Avg. loss: 1.086 | lr: 0.00019191919191919191\n",
            "Epoch: 1 | Step: 62500 | Avg. loss: 1.034 | lr: 0.0001893939393939394\n",
            "Epoch: 1 | Step: 63000 | Avg. loss: 1.045 | lr: 0.00018686868686868687\n",
            "Epoch: 1 | Step: 63500 | Avg. loss: 1.031 | lr: 0.00018434343434343435\n",
            "Epoch: 1 | Step: 64000 | Avg. loss: 1.044 | lr: 0.00018181818181818183\n",
            "Epoch: 1 | Step: 64500 | Avg. loss: 1.030 | lr: 0.0001792929292929293\n",
            "Epoch: 1 | Step: 65000 | Avg. loss: 1.029 | lr: 0.00017676767676767677\n",
            "Epoch: 1 | Step: 65500 | Avg. loss: 1.019 | lr: 0.00017424242424242425\n",
            "Epoch: 1 | Step: 66000 | Avg. loss: 1.059 | lr: 0.00017171717171717173\n",
            "Epoch: 1 | Step: 66500 | Avg. loss: 1.031 | lr: 0.0001691919191919192\n",
            "Epoch: 1 | Step: 67000 | Avg. loss: 1.042 | lr: 0.00016666666666666666\n",
            "Epoch: 1 | Step: 67500 | Avg. loss: 1.018 | lr: 0.00016414141414141414\n",
            "Epoch: 1 | Step: 68000 | Avg. loss: 1.019 | lr: 0.00016161616161616162\n",
            "Epoch: 1 | Step: 68500 | Avg. loss: 1.010 | lr: 0.0001590909090909091\n",
            "Epoch: 1 | Step: 69000 | Avg. loss: 1.007 | lr: 0.00015656565656565658\n",
            "Epoch: 1 | Step: 69500 | Avg. loss: 1.015 | lr: 0.00015404040404040403\n",
            "Epoch: 1 | Step: 70000 | Avg. loss: 1.008 | lr: 0.00015151515151515152\n",
            "Saving model with test loss of 0.310\n",
            "Epoch: 1 | Step: 70500 | Avg. loss: 1.010 | lr: 0.00014898989898989897\n",
            "Epoch: 1 | Step: 71000 | Avg. loss: 1.019 | lr: 0.00014646464646464648\n",
            "Epoch: 1 | Step: 71500 | Avg. loss: 1.017 | lr: 0.00014393939393939396\n",
            "Epoch: 1 | Step: 72000 | Avg. loss: 0.984 | lr: 0.0001414141414141414\n",
            "Epoch: 1 | Step: 72500 | Avg. loss: 1.007 | lr: 0.0001388888888888889\n",
            "Epoch: 1 | Step: 73000 | Avg. loss: 1.024 | lr: 0.00013636363636363637\n",
            "Epoch: 1 | Step: 73500 | Avg. loss: 1.003 | lr: 0.00013383838383838385\n",
            "Epoch: 1 | Step: 74000 | Avg. loss: 1.006 | lr: 0.00013131313131313133\n",
            "Epoch: 1 | Step: 74500 | Avg. loss: 1.000 | lr: 0.00012878787878787878\n",
            "Epoch: 1 | Step: 75000 | Avg. loss: 1.003 | lr: 0.00012626262626262626\n",
            "Epoch: 1 | Step: 75500 | Avg. loss: 0.988 | lr: 0.00012373737373737374\n",
            "Epoch: 1 | Step: 76000 | Avg. loss: 1.012 | lr: 0.00012121212121212122\n",
            "Epoch: 1 | Step: 76500 | Avg. loss: 0.998 | lr: 0.00011868686868686869\n",
            "Epoch: 1 | Step: 77000 | Avg. loss: 1.010 | lr: 0.00011616161616161616\n",
            "Epoch: 1 | Step: 77500 | Avg. loss: 0.983 | lr: 0.00011363636363636364\n",
            "Epoch: 1 | Step: 78000 | Avg. loss: 0.997 | lr: 0.0001111111111111111\n",
            "Epoch: 1 | Step: 78500 | Avg. loss: 1.006 | lr: 0.0001085858585858586\n",
            "Epoch: 1 | Step: 79000 | Avg. loss: 0.982 | lr: 0.00010606060606060606\n",
            "Epoch: 1 | Step: 79500 | Avg. loss: 0.996 | lr: 0.00010353535353535354\n",
            "Epoch: 1 | Step: 80000 | Avg. loss: 1.021 | lr: 0.00010101010101010101\n",
            "Saving model with test loss of 0.269\n",
            "Epoch: 1 | Step: 80500 | Avg. loss: 0.974 | lr: 9.848484848484848e-05\n",
            "Epoch: 1 | Step: 81000 | Avg. loss: 0.984 | lr: 9.595959595959596e-05\n",
            "Epoch: 1 | Step: 81500 | Avg. loss: 0.996 | lr: 9.343434343434344e-05\n",
            "Epoch: 1 | Step: 82000 | Avg. loss: 0.984 | lr: 9.090909090909092e-05\n",
            "Epoch: 1 | Step: 82500 | Avg. loss: 0.980 | lr: 8.838383838383838e-05\n",
            "Epoch: 1 | Step: 83000 | Avg. loss: 0.964 | lr: 8.585858585858586e-05\n",
            "Epoch: 1 | Step: 83500 | Avg. loss: 0.946 | lr: 8.333333333333333e-05\n",
            "Epoch: 1 | Step: 84000 | Avg. loss: 0.988 | lr: 8.080808080808081e-05\n",
            "Epoch: 1 | Step: 84500 | Avg. loss: 0.987 | lr: 7.828282828282829e-05\n",
            "Epoch: 1 | Step: 85000 | Avg. loss: 1.014 | lr: 7.575757575757576e-05\n",
            "Epoch: 1 | Step: 85500 | Avg. loss: 0.949 | lr: 7.323232323232324e-05\n",
            "Epoch: 1 | Step: 86000 | Avg. loss: 0.966 | lr: 7.07070707070707e-05\n",
            "Epoch: 1 | Step: 86500 | Avg. loss: 0.984 | lr: 6.818181818181818e-05\n",
            "Epoch: 1 | Step: 87000 | Avg. loss: 0.997 | lr: 6.565656565656566e-05\n",
            "Epoch: 1 | Step: 87500 | Avg. loss: 0.947 | lr: 6.313131313131313e-05\n",
            "Epoch: 1 | Step: 88000 | Avg. loss: 0.983 | lr: 6.060606060606061e-05\n",
            "Epoch: 1 | Step: 88500 | Avg. loss: 0.963 | lr: 5.808080808080808e-05\n",
            "Epoch: 1 | Step: 89000 | Avg. loss: 0.958 | lr: 5.555555555555555e-05\n",
            "Epoch: 1 | Step: 89500 | Avg. loss: 0.976 | lr: 5.303030303030303e-05\n",
            "Epoch: 1 | Step: 90000 | Avg. loss: 0.970 | lr: 5.0505050505050505e-05\n",
            "Saving model with test loss of 0.286\n",
            "Epoch: 1 | Step: 90500 | Avg. loss: 0.978 | lr: 4.797979797979798e-05\n",
            "Epoch: 1 | Step: 91000 | Avg. loss: 0.974 | lr: 4.545454545454546e-05\n",
            "Epoch: 1 | Step: 91500 | Avg. loss: 0.957 | lr: 4.292929292929293e-05\n",
            "Epoch: 1 | Step: 92000 | Avg. loss: 0.961 | lr: 4.0404040404040405e-05\n",
            "Epoch: 1 | Step: 92500 | Avg. loss: 0.932 | lr: 3.787878787878788e-05\n",
            "Epoch: 1 | Step: 93000 | Avg. loss: 0.946 | lr: 3.535353535353535e-05\n",
            "Epoch: 1 | Step: 93500 | Avg. loss: 0.923 | lr: 3.282828282828283e-05\n",
            "Epoch: 1 | Step: 94000 | Avg. loss: 0.972 | lr: 3.0303030303030306e-05\n",
            "Epoch: 1 | Step: 94500 | Avg. loss: 0.959 | lr: 2.7777777777777776e-05\n",
            "Epoch: 1 | Step: 95000 | Avg. loss: 0.931 | lr: 2.5252525252525253e-05\n",
            "Epoch: 1 | Step: 95500 | Avg. loss: 0.947 | lr: 2.272727272727273e-05\n",
            "Epoch: 1 | Step: 96000 | Avg. loss: 0.942 | lr: 2.0202020202020203e-05\n",
            "Epoch: 1 | Step: 96500 | Avg. loss: 0.977 | lr: 1.7676767676767676e-05\n",
            "Epoch: 1 | Step: 97000 | Avg. loss: 0.969 | lr: 1.5151515151515153e-05\n",
            "Epoch: 1 | Step: 97500 | Avg. loss: 0.949 | lr: 1.2626262626262626e-05\n",
            "Epoch: 1 | Step: 98000 | Avg. loss: 0.928 | lr: 1.0101010101010101e-05\n",
            "Epoch: 1 | Step: 98500 | Avg. loss: 0.960 | lr: 7.5757575757575764e-06\n",
            "Epoch: 1 | Step: 99000 | Avg. loss: 0.945 | lr: 5.050505050505051e-06\n",
            "Epoch: 1 | Step: 99500 | Avg. loss: 0.949 | lr: 2.5252525252525253e-06\n",
            "Epoch: 1 | Step: 100000 | Avg. loss: 0.929 | lr: 0.0\n",
            "Saving model with test loss of 0.303\n"
          ],
          "name": "stdout"
        }
      ]
    },
    {
      "cell_type": "code",
      "metadata": {
        "id": "t49WwlHoPvNN"
      },
      "source": [
        "import gc\n",
        "#del model\n",
        "gc.collect()\n",
        "\n",
        "torch.cuda.empty_cache()"
      ],
      "execution_count": null,
      "outputs": []
    },
    {
      "cell_type": "code",
      "metadata": {
        "id": "tgaCaATQNr9b",
        "colab": {
          "base_uri": "https://localhost:8080/",
          "height": 285
        },
        "outputId": "ede86a94-47e1-4185-b7da-76a226d2c94c"
      },
      "source": [
        "# Graph the loss\n",
        "\n",
        "window_size = 50\n",
        "smoothed_losses = []\n",
        "for i in range(len(losses)-window_size):\n",
        "  smoothed_losses.append(np.mean(losses[i:i+window_size]))\n",
        "\n",
        "plt.plot(smoothed_losses[100:])"
      ],
      "execution_count": null,
      "outputs": [
        {
          "output_type": "execute_result",
          "data": {
            "text/plain": [
              "[<matplotlib.lines.Line2D at 0x7f32fb426150>]"
            ]
          },
          "metadata": {
            "tags": []
          },
          "execution_count": 33
        },
        {
          "output_type": "display_data",
          "data": {
            "image/png": "[encoded data removed]",
            "text/plain": [
              "<Figure size 432x288 with 1 Axes>"
            ]
          },
          "metadata": {
            "tags": []
          }
        }
      ]
    },
    {
      "cell_type": "markdown",
      "metadata": {
        "id": "WrHou7OIKxla"
      },
      "source": [
        "**Manual testing**"
      ]
    },
    {
      "cell_type": "code",
      "metadata": {
        "colab": {
          "base_uri": "https://localhost:8080/"
        },
        "id": "XoZhIC8U7_GV",
        "outputId": "215b9684-300c-4c54-e0e9-7af7fc42ce75"
      },
      "source": [
        "test_sentence = eval_df['input_text'].iloc[3]\n",
        "#test_sentence=\"<eng.ger> i had an awful meeting with my boss\"\n",
        "print('Raw input text:', test_sentence)\n",
        "\n",
        "input_ids = encode_str(\n",
        "    text = test_sentence,\n",
        "    tokenizer = tokenizer,\n",
        "    seq_len = model.config.max_length)\n",
        "input_ids = input_ids.unsqueeze(0).cuda()\n",
        "\n",
        "print('Truncated input text:', tokenizer.convert_tokens_to_string(\n",
        "    tokenizer.convert_ids_to_tokens(input_ids[0])))"
      ],
      "execution_count": null,
      "outputs": [
        {
          "output_type": "stream",
          "text": [
            "Raw input text: <eng.rus> He is afraid of dogs.\n",
            "Truncated input text: <eng.rus> He is afraid of dogs.</s><pad><pad><pad><pad><pad><pad><pad><pad><pad><pad><pad><pad><pad><pad><pad><pad><pad><pad><pad><pad><pad><pad><pad><pad><pad><pad><pad><pad><pad><pad>\n"
          ],
          "name": "stdout"
        }
      ]
    },
    {
      "cell_type": "code",
      "metadata": {
        "colab": {
          "base_uri": "https://localhost:8080/"
        },
        "id": "44BvtXAOHnWL",
        "outputId": "9feba0f8-1dd2-4528-ce92-1f7bd9f7919e"
      },
      "source": [
        "output_tokens = model.generate(input_ids, num_beams=10, num_return_sequences=3, length_penalty = 1, no_repeat_ngram_size=2)\n",
        "# print(output_tokens)\n",
        "for token_set in output_tokens:\n",
        "  print(token_set, tokenizer.decode(token_set,skip_special_tokens=True))"
      ],
      "execution_count": null,
      "outputs": [
        {
          "output_type": "stream",
          "text": [
            "tensor([    0,  5778,  2758,  4013, 55141,   260,     1,     0],\n",
            "       device='cuda:0') Он боится собак.\n",
            "tensor([    0,  5778,  2758,  4013, 55141,   279,   260,     1],\n",
            "       device='cuda:0') Он боится собаки.\n",
            "tensor([    0,  5778, 74061,  7990, 55141,   260,     1,     0],\n",
            "       device='cuda:0') Он опасается собак.\n"
          ],
          "name": "stdout"
        }
      ]
    },
    {
      "cell_type": "code",
      "metadata": {
        "colab": {
          "base_uri": "https://localhost:8080/"
        },
        "id": "Se-O7l2kCStW",
        "outputId": "0fa980d9-4df3-4960-8b2b-253095f13aa8"
      },
      "source": [
        "\n",
        "!pip install sacrebleu\n",
        "import sacrebleu"
      ],
      "execution_count": null,
      "outputs": [
        {
          "output_type": "stream",
          "text": [
            "Collecting sacrebleu\n",
            "  Downloading sacrebleu-1.5.1-py3-none-any.whl (54 kB)\n",
            "\u001b[?25l\r\u001b[K     |██████                          | 10 kB 26.0 MB/s eta 0:00:01\r\u001b[K     |████████████                    | 20 kB 31.5 MB/s eta 0:00:01\r\u001b[K     |██████████████████              | 30 kB 30.3 MB/s eta 0:00:01\r\u001b[K     |████████████████████████        | 40 kB 22.4 MB/s eta 0:00:01\r\u001b[K     |██████████████████████████████  | 51 kB 15.1 MB/s eta 0:00:01\r\u001b[K     |████████████████████████████████| 54 kB 2.4 MB/s \n",
            "\u001b[?25hCollecting portalocker==2.0.0\n",
            "  Downloading portalocker-2.0.0-py2.py3-none-any.whl (11 kB)\n",
            "Installing collected packages: portalocker, sacrebleu\n",
            "Successfully installed portalocker-2.0.0 sacrebleu-1.5.1\n"
          ],
          "name": "stdout"
        }
      ]
    },
    {
      "cell_type": "markdown",
      "metadata": {
        "id": "kE-Bdf_Eb3NT"
      },
      "source": [
        "**English-Russian**"
      ]
    },
    {
      "cell_type": "code",
      "metadata": {
        "id": "_-vxtpcvB-MW"
      },
      "source": [
        "russian_truth = [eval_df.loc[eval_df[\"prefix\"] == \"eng.rus\"][\"target_text\"].tolist()]\n"
      ],
      "execution_count": null,
      "outputs": []
    },
    {
      "cell_type": "code",
      "metadata": {
        "id": "oCzZvi_ESMLU"
      },
      "source": [
        "russian_truth = russian_truth[0][:500]"
      ],
      "execution_count": null,
      "outputs": []
    },
    {
      "cell_type": "code",
      "metadata": {
        "id": "MnuCNz4_KjgP"
      },
      "source": [
        "to_russian=eval_df.loc[eval_df[\"prefix\"] == \"eng.rus\"][\"input_text\"].tolist()"
      ],
      "execution_count": null,
      "outputs": []
    },
    {
      "cell_type": "code",
      "metadata": {
        "id": "OO0zOSjFRw19"
      },
      "source": [
        "to_russian=to_russian[:500]"
      ],
      "execution_count": null,
      "outputs": []
    },
    {
      "cell_type": "code",
      "metadata": {
        "id": "DEEmDnNtNVJt"
      },
      "source": [
        "russian_preds=[]\n",
        "for i in to_russian:\n",
        "  input_ids = encode_str(\n",
        "    text = i,\n",
        "    tokenizer = tokenizer,\n",
        "    seq_len = model.config.max_length)\n",
        "  input_ids = input_ids.unsqueeze(0).cuda()\n",
        "  #print(input_ids)\n",
        "  output_tokens = model.generate(input_ids, num_beams=10, num_return_sequences=1, length_penalty = 1, no_repeat_ngram_size=2)\n",
        "  for token_set in output_tokens:\n",
        "    russian_preds.append(tokenizer.decode(token_set, skip_special_tokens=True))"
      ],
      "execution_count": null,
      "outputs": []
    },
    {
      "cell_type": "code",
      "metadata": {
        "colab": {
          "base_uri": "https://localhost:8080/"
        },
        "id": "Kor_n-7UTqTL",
        "outputId": "92c15808-8ea8-4e3c-e84e-661ce9fa653c"
      },
      "source": [
        "len(russian_preds), len(russian_truth)"
      ],
      "execution_count": null,
      "outputs": [
        {
          "output_type": "execute_result",
          "data": {
            "text/plain": [
              "(500, 500)"
            ]
          },
          "metadata": {
            "tags": []
          },
          "execution_count": 66
        }
      ]
    },
    {
      "cell_type": "code",
      "metadata": {
        "colab": {
          "base_uri": "https://localhost:8080/"
        },
        "id": "I1qlPwNNULCq",
        "outputId": "f90cea6f-2e7c-47d5-9d5e-6f5ab6787c97"
      },
      "source": [
        "russian_preds[0], russian_truth[0]"
      ],
      "execution_count": null,
      "outputs": [
        {
          "output_type": "execute_result",
          "data": {
            "text/plain": [
              "('Я не могу объяснить это тебе.', 'Я не в состоянии тебе это объяснить.')"
            ]
          },
          "metadata": {
            "tags": []
          },
          "execution_count": 67
        }
      ]
    },
    {
      "cell_type": "code",
      "metadata": {
        "colab": {
          "base_uri": "https://localhost:8080/"
        },
        "id": "RZrIeNQBSr_t",
        "outputId": "01d3b6dc-ff17-4f21-e6fb-5086890b1527"
      },
      "source": [
        "eng_rus_bleu = sacrebleu.corpus_bleu(russian_preds, [russian_truth])\n",
        "print(\"--------------------------\")\n",
        "print(\"English to Russian: \", eng_rus_bleu.score)"
      ],
      "execution_count": null,
      "outputs": [
        {
          "output_type": "stream",
          "text": [
            "--------------------------\n",
            "English to Russian:  27.746710980637296\n"
          ],
          "name": "stdout"
        }
      ]
    },
    {
      "cell_type": "markdown",
      "metadata": {
        "id": "W4VaGfj5cCn0"
      },
      "source": [
        "**Russian-English**"
      ]
    },
    {
      "cell_type": "code",
      "metadata": {
        "id": "gNLYpMZ-btj_"
      },
      "source": [
        "english_truth = [eval_df.loc[eval_df[\"prefix\"] == \"rus.eng\"][\"target_text\"].tolist()]\n"
      ],
      "execution_count": null,
      "outputs": []
    },
    {
      "cell_type": "code",
      "metadata": {
        "id": "CGtxEHrbbt5q"
      },
      "source": [
        "english_truth = english_truth[0][:500]"
      ],
      "execution_count": null,
      "outputs": []
    },
    {
      "cell_type": "code",
      "metadata": {
        "id": "ftyGoRCUcfPU"
      },
      "source": [
        "to_english=eval_df.loc[eval_df[\"prefix\"] == \"rus.eng\"][\"input_text\"].tolist()"
      ],
      "execution_count": null,
      "outputs": []
    },
    {
      "cell_type": "code",
      "metadata": {
        "id": "r0D1l_6fcfUa"
      },
      "source": [
        "to_english=to_english[:500]"
      ],
      "execution_count": null,
      "outputs": []
    },
    {
      "cell_type": "code",
      "metadata": {
        "id": "D7kkW0kKcqeB"
      },
      "source": [
        "english_preds=[]\n",
        "for i in to_english:\n",
        "  input_ids = encode_str(\n",
        "    text = i,\n",
        "    tokenizer = tokenizer,\n",
        "    seq_len = model.config.max_length)\n",
        "  input_ids = input_ids.unsqueeze(0).cuda()\n",
        "  output_tokens = model.generate(input_ids, num_beams=10, num_return_sequences=1, length_penalty = 1, no_repeat_ngram_size=2)\n",
        "  for token_set in output_tokens:\n",
        "    english_preds.append(tokenizer.decode(token_set, skip_special_tokens=True))"
      ],
      "execution_count": null,
      "outputs": []
    },
    {
      "cell_type": "code",
      "metadata": {
        "id": "dwposz-R5ikY"
      },
      "source": [
        "rus_eng_bleu = sacrebleu.corpus_bleu(english_preds, [english_truth])\n"
      ],
      "execution_count": null,
      "outputs": []
    },
    {
      "cell_type": "code",
      "metadata": {
        "colab": {
          "base_uri": "https://localhost:8080/"
        },
        "id": "84wgJzc_haxY",
        "outputId": "2310577e-504f-4c66-9f7c-b923fecabc82"
      },
      "source": [
        "print(\"--------------------------\")\n",
        "print(\"Russian to English: \", rus_eng_bleu.score)"
      ],
      "execution_count": null,
      "outputs": [
        {
          "output_type": "stream",
          "text": [
            "--------------------------\n",
            "Russian to English:  43.594575147451685\n"
          ],
          "name": "stdout"
        }
      ]
    },
    {
      "cell_type": "markdown",
      "metadata": {
        "id": "QKJAYAy2fxtD"
      },
      "source": [
        "**German-English**"
      ]
    },
    {
      "cell_type": "code",
      "metadata": {
        "id": "mFCqK7phflI9"
      },
      "source": [
        "english_truth = [eval_df.loc[eval_df[\"prefix\"] == \"ger.eng\"][\"target_text\"].tolist()]\n",
        "to_english=eval_df.loc[eval_df[\"prefix\"] == \"ger.eng\"][\"input_text\"].tolist()\n"
      ],
      "execution_count": null,
      "outputs": []
    },
    {
      "cell_type": "code",
      "metadata": {
        "id": "ezNnrO4xgBWR"
      },
      "source": [
        "english_truth = english_truth[0][:500]\n",
        "to_english=to_english[:500]"
      ],
      "execution_count": null,
      "outputs": []
    },
    {
      "cell_type": "code",
      "metadata": {
        "id": "25MYh_p6gihL"
      },
      "source": [
        "english_preds=[]\n",
        "for i in to_english:\n",
        "  input_ids = encode_str(\n",
        "    text = i,\n",
        "    tokenizer = tokenizer,\n",
        "    seq_len = model.config.max_length)\n",
        "  input_ids = input_ids.unsqueeze(0).cuda()\n",
        "  output_tokens = model.generate(input_ids, num_beams=10, num_return_sequences=1, length_penalty = 1, no_repeat_ngram_size=2)\n",
        "  for token_set in output_tokens:\n",
        "    english_preds.append(tokenizer.decode(token_set, skip_special_tokens=True))"
      ],
      "execution_count": null,
      "outputs": []
    },
    {
      "cell_type": "code",
      "metadata": {
        "colab": {
          "base_uri": "https://localhost:8080/"
        },
        "id": "0bZIVPHjhIRy",
        "outputId": "4855de20-d9c6-4966-8a62-dc641dc6915d"
      },
      "source": [
        "ger_eng_bleu = sacrebleu.corpus_bleu(english_preds, [english_truth])\n",
        "print(\"--------------------------\")\n",
        "print(\"German to English: \", ger_eng_bleu.score)"
      ],
      "execution_count": null,
      "outputs": [
        {
          "output_type": "stream",
          "text": [
            "--------------------------\n",
            "German to English:  41.93287864627209\n"
          ],
          "name": "stdout"
        }
      ]
    },
    {
      "cell_type": "markdown",
      "metadata": {
        "id": "5t8f_hDai_GX"
      },
      "source": [
        "**English-German**"
      ]
    },
    {
      "cell_type": "code",
      "metadata": {
        "id": "B2P7JKecjFS1"
      },
      "source": [
        "german_truth = [eval_df.loc[eval_df[\"prefix\"] == \"eng.ger\"][\"target_text\"].tolist()]\n",
        "to_german=eval_df.loc[eval_df[\"prefix\"] == \"eng.ger\"][\"input_text\"].tolist()"
      ],
      "execution_count": null,
      "outputs": []
    },
    {
      "cell_type": "code",
      "metadata": {
        "id": "jXStzed9jFVf"
      },
      "source": [
        "german_truth = german_truth[0][:500]\n",
        "to_german=to_german[:500]"
      ],
      "execution_count": null,
      "outputs": []
    },
    {
      "cell_type": "code",
      "metadata": {
        "id": "NP05pEhOjFZd"
      },
      "source": [
        "german_preds=[]\n",
        "for i in to_german:\n",
        "  input_ids = encode_str(\n",
        "    text = i,\n",
        "    tokenizer = tokenizer,\n",
        "    seq_len = model.config.max_length)\n",
        "  input_ids = input_ids.unsqueeze(0).cuda()\n",
        "  output_tokens = model.generate(input_ids, num_beams=10, num_return_sequences=1, length_penalty = 1, no_repeat_ngram_size=2)\n",
        "  for token_set in output_tokens:\n",
        "    german_preds.append(tokenizer.decode(token_set, skip_special_tokens=True))"
      ],
      "execution_count": null,
      "outputs": []
    },
    {
      "cell_type": "code",
      "metadata": {
        "colab": {
          "base_uri": "https://localhost:8080/"
        },
        "id": "S6f9dn1sjFdh",
        "outputId": "2bfbc3a7-5d84-4ad6-b0f5-2932256d5ba5"
      },
      "source": [
        "eng_ger_bleu = sacrebleu.corpus_bleu(german_preds, [german_truth])\n",
        "print(\"--------------------------\")\n",
        "print(\"English to German: \", eng_ger_bleu.score)"
      ],
      "execution_count": null,
      "outputs": [
        {
          "output_type": "stream",
          "text": [
            "--------------------------\n",
            "English to German:  32.375929786580215\n"
          ],
          "name": "stdout"
        }
      ]
    },
    {
      "cell_type": "code",
      "metadata": {
        "id": "gfN3QjHmPZJ8",
        "colab": {
          "base_uri": "https://localhost:8080/"
        },
        "cellView": "form",
        "outputId": "e762126c-ef23-49e5-cf99-6ba4f2753eeb"
      },
      "source": [
        "#@title Translator\n",
        "input_text = 'Last night I had a very bad experience.' #@param {type:\"string\"}\n",
        "output_language = '\\u003Ceng.ger>' #@param [\"<ger.eng>\", \"<eng.ger>\", \"<eng.rus>\",\"<rus.eng>\"]\n",
        "\n",
        "input_ids = encode_input_str(\n",
        "    text = output_language+input_text,\n",
        "    tokenizer = tokenizer,\n",
        "    seq_len = model.config.max_length\n",
        "    )\n",
        "input_ids = input_ids.unsqueeze(0).cuda()\n",
        "print(input_ids)\n",
        "output_tokens = model.generate(input_ids,num_beams=10, num_return_sequences=1, length_penalty = 1, no_repeat_ngram_size=2)\n",
        "print(input_text + '  ->  ' + \\\n",
        "      tokenizer.decode(output_tokens[0], skip_special_tokens=True))"
      ],
      "execution_count": null,
      "outputs": [
        {
          "output_type": "stream",
          "text": [
            "tensor([[250103,   6460,   9713,    336,   1425,    259,    262,    259,   2364,\n",
            "           6201,   4842,    260,      1,      0,      0,      0,      0,      0,\n",
            "              0,      0,      0,      0,      0,      0,      0,      0,      0,\n",
            "              0,      0,      0,      0,      0,      0,      0,      0,      0,\n",
            "              0,      0,      0,      0]], device='cuda:0')\n",
            "Last night I had a very bad experience.  ->  letzte Nacht hatte ich eine sehr schlechte Erfahrung.\n"
          ],
          "name": "stdout"
        }
      ]
    },
    {
      "cell_type": "markdown",
      "metadata": {
        "id": "D38zx_GjLMwd"
      },
      "source": [
        "**Flask App**"
      ]
    },
    {
      "cell_type": "markdown",
      "metadata": {
        "id": "XcBjZ7MULUe8"
      },
      "source": [
        "requires upload to templates and static folders"
      ]
    },
    {
      "cell_type": "code",
      "metadata": {
        "id": "vIMaG0pU5lLA",
        "colab": {
          "base_uri": "https://localhost:8080/"
        },
        "outputId": "6ccc66a5-89fd-45a1-e9f6-fbdd1e4f4bf4"
      },
      "source": [
        "!pip install flask-ngrok\n",
        "\n"
      ],
      "execution_count": null,
      "outputs": [
        {
          "output_type": "stream",
          "text": [
            "Collecting flask-ngrok\n",
            "  Downloading flask_ngrok-0.0.25-py3-none-any.whl (3.1 kB)\n",
            "Requirement already satisfied: Flask>=0.8 in /usr/local/lib/python3.7/dist-packages (from flask-ngrok) (1.1.4)\n",
            "Requirement already satisfied: requests in /usr/local/lib/python3.7/dist-packages (from flask-ngrok) (2.23.0)\n",
            "Requirement already satisfied: click<8.0,>=5.1 in /usr/local/lib/python3.7/dist-packages (from Flask>=0.8->flask-ngrok) (7.1.2)\n",
            "Requirement already satisfied: Jinja2<3.0,>=2.10.1 in /usr/local/lib/python3.7/dist-packages (from Flask>=0.8->flask-ngrok) (2.11.3)\n",
            "Requirement already satisfied: Werkzeug<2.0,>=0.15 in /usr/local/lib/python3.7/dist-packages (from Flask>=0.8->flask-ngrok) (1.0.1)\n",
            "Requirement already satisfied: itsdangerous<2.0,>=0.24 in /usr/local/lib/python3.7/dist-packages (from Flask>=0.8->flask-ngrok) (1.1.0)\n",
            "Requirement already satisfied: MarkupSafe>=0.23 in /usr/local/lib/python3.7/dist-packages (from Jinja2<3.0,>=2.10.1->Flask>=0.8->flask-ngrok) (2.0.1)\n",
            "Requirement already satisfied: urllib3!=1.25.0,!=1.25.1,<1.26,>=1.21.1 in /usr/local/lib/python3.7/dist-packages (from requests->flask-ngrok) (1.24.3)\n",
            "Requirement already satisfied: certifi>=2017.4.17 in /usr/local/lib/python3.7/dist-packages (from requests->flask-ngrok) (2021.5.30)\n",
            "Requirement already satisfied: idna<3,>=2.5 in /usr/local/lib/python3.7/dist-packages (from requests->flask-ngrok) (2.10)\n",
            "Requirement already satisfied: chardet<4,>=3.0.2 in /usr/local/lib/python3.7/dist-packages (from requests->flask-ngrok) (3.0.4)\n",
            "Installing collected packages: flask-ngrok\n",
            "Successfully installed flask-ngrok-0.0.25\n"
          ],
          "name": "stdout"
        }
      ]
    },
    {
      "cell_type": "code",
      "metadata": {
        "colab": {
          "base_uri": "https://localhost:8080/"
        },
        "id": "yqm61YdlWNcV",
        "outputId": "247cff0a-1a53-4bc9-d9ed-eced8cbf41bc"
      },
      "source": [
        "\n",
        "from flask import Flask, render_template, request\n",
        "from flask_ngrok import run_with_ngrok\n",
        "app = Flask(__name__)\n",
        "run_with_ngrok(app)   \n",
        "\n",
        "\n",
        "@app.route('/')\n",
        "def index():\n",
        "    \n",
        "    return render_template('index.html', title='Welcome  to  mT5-Translator')\n",
        "\n",
        "@app.route('/translate',methods=[\"POST\"])\n",
        "def translate():\n",
        "    input = dict(request.form)\n",
        " \n",
        "\n",
        "    TEXT=list(input.values())[1]\n",
        "    FROM=list(input.keys())[0]\n",
        "    TO=list(input.keys())[2]\n",
        "\n",
        "\n",
        "\n",
        "    input_text = str(TEXT)\n",
        "    language = '<'+str(FROM)+'>'\n",
        "    print(language,input_text)\n",
        "    input_ids = encode_str(\n",
        "        text = language+input_text,\n",
        "        tokenizer = tokenizer,\n",
        "        seq_len = max_seq_len\n",
        "        )\n",
        "    input_ids = input_ids.unsqueeze(0).cuda()\n",
        "    print(input_ids)\n",
        "    output_tokens = model.generate(input_ids,num_beams=10, num_return_sequences=1, length_penalty = 1, no_repeat_ngram_size=2)\n",
        "    \n",
        "    TRANS=tokenizer.decode(output_tokens[0], skip_special_tokens=True)\n",
        "#    TRANS='your translation'\n",
        "\n",
        "\n",
        "    return render_template('translate.html', text=input_text, trans=TRANS )\n",
        "    \n",
        "app.run()"
      ],
      "execution_count": null,
      "outputs": [
        {
          "output_type": "stream",
          "text": [
            " * Serving Flask app \"__main__\" (lazy loading)\n",
            " * Environment: production\n",
            "\u001b[31m   WARNING: This is a development server. Do not use it in a production deployment.\u001b[0m\n",
            "\u001b[2m   Use a production WSGI server instead.\u001b[0m\n",
            " * Debug mode: off\n"
          ],
          "name": "stdout"
        },
        {
          "output_type": "stream",
          "text": [
            " * Running on http://127.0.0.1:5000/ (Press CTRL+C to quit)\n"
          ],
          "name": "stderr"
        },
        {
          "output_type": "stream",
          "text": [
            " * Running on http://5e52cc5b8d01.ngrok.io\n",
            " * Traffic stats available on http://127.0.0.1:4040\n"
          ],
          "name": "stdout"
        },
        {
          "output_type": "stream",
          "text": [
            "127.0.0.1 - - [03/Aug/2021 13:27:16] \"\u001b[37mGET / HTTP/1.1\u001b[0m\" 200 -\n",
            "127.0.0.1 - - [03/Aug/2021 13:27:16] \"\u001b[37mGET /static/style.css HTTP/1.1\u001b[0m\" 200 -\n",
            "127.0.0.1 - - [03/Aug/2021 13:27:16] \"\u001b[37mGET /static/image3.gif HTTP/1.1\u001b[0m\" 200 -\n",
            "127.0.0.1 - - [03/Aug/2021 13:27:16] \"\u001b[37mGET /static/google2.png HTTP/1.1\u001b[0m\" 200 -\n",
            "127.0.0.1 - - [03/Aug/2021 13:27:17] \"\u001b[37mGET /static/google.png HTTP/1.1\u001b[0m\" 200 -\n",
            "127.0.0.1 - - [03/Aug/2021 13:27:18] \"\u001b[33mGET /favicon.ico HTTP/1.1\u001b[0m\" 404 -\n"
          ],
          "name": "stderr"
        },
        {
          "output_type": "stream",
          "text": [
            "<eng.ger> I built a language translator using deep learning\n",
            "tensor([[250103,    336,    259,  22961,    259,    262,  17896,    259, 159095,\n",
            "            259,   4342,  24682,  22651,      1,      0,      0,      0,      0,\n",
            "              0,      0,      0,      0,      0,      0,      0,      0,      0,\n",
            "              0,      0,      0,      0,      0,      0,      0,      0,      0,\n",
            "              0,      0,      0,      0]], device='cuda:0')\n"
          ],
          "name": "stdout"
        },
        {
          "output_type": "stream",
          "text": [
            "127.0.0.1 - - [03/Aug/2021 13:42:09] \"\u001b[37mPOST /translate HTTP/1.1\u001b[0m\" 200 -\n",
            "127.0.0.1 - - [03/Aug/2021 13:42:09] \"\u001b[37mGET /static/unnamed.png HTTP/1.1\u001b[0m\" 200 -\n",
            "127.0.0.1 - - [03/Aug/2021 13:42:18] \"\u001b[37mGET / HTTP/1.1\u001b[0m\" 200 -\n"
          ],
          "name": "stderr"
        },
        {
          "output_type": "stream",
          "text": [
            "<ger.eng> Ich habe einen Sprachübersetzer mit Hilfe von Deep Learning entwickelt.\n",
            "tensor([[250102,   4824,   6247,    259,   2448,  92439,  19365,   2325,   3885,\n",
            "            749,    259,  41034,    795,  29188,  48162,    259,  42654,    270,\n",
            "            260,      1,      0,      0,      0,      0,      0,      0,      0,\n",
            "              0,      0,      0,      0,      0,      0,      0,      0,      0,\n",
            "              0,      0,      0,      0]], device='cuda:0')\n"
          ],
          "name": "stdout"
        },
        {
          "output_type": "stream",
          "text": [
            "127.0.0.1 - - [03/Aug/2021 13:42:25] \"\u001b[37mPOST /translate HTTP/1.1\u001b[0m\" 200 -\n",
            "127.0.0.1 - - [03/Aug/2021 13:42:34] \"\u001b[37mGET / HTTP/1.1\u001b[0m\" 200 -\n"
          ],
          "name": "stderr"
        },
        {
          "output_type": "stream",
          "text": [
            "<eng.rus> I developed a language translator with the help of Deep Learning.\n",
            "tensor([[250101,    336,    259,  36260,    259,    262,  17896,    259, 159095,\n",
            "            514,    287,   2114,    304,  29188,  48162,    260,      1,      0,\n",
            "              0,      0,      0,      0,      0,      0,      0,      0,      0,\n",
            "              0,      0,      0,      0,      0,      0,      0,      0,      0,\n",
            "              0,      0,      0,      0]], device='cuda:0')\n"
          ],
          "name": "stdout"
        },
        {
          "output_type": "stream",
          "text": [
            "127.0.0.1 - - [03/Aug/2021 13:42:48] \"\u001b[37mPOST /translate HTTP/1.1\u001b[0m\" 200 -\n",
            "127.0.0.1 - - [03/Aug/2021 13:43:00] \"\u001b[37mGET / HTTP/1.1\u001b[0m\" 200 -\n"
          ],
          "name": "stderr"
        },
        {
          "output_type": "stream",
          "text": [
            "<rus.eng> Я разработал языковой переводчик с помощью Deep Learning.\n",
            "tensor([[250100,   2553,  26494,   3725,  11183,   8050,  43898,  19965,    388,\n",
            "           8465,   4722,  29188,  48162,    260,      1,      0,      0,      0,\n",
            "              0,      0,      0,      0,      0,      0,      0,      0,      0,\n",
            "              0,      0,      0,      0,      0,      0,      0,      0,      0,\n",
            "              0,      0,      0,      0]], device='cuda:0')\n"
          ],
          "name": "stdout"
        },
        {
          "output_type": "stream",
          "text": [
            "127.0.0.1 - - [03/Aug/2021 13:43:07] \"\u001b[37mPOST /translate HTTP/1.1\u001b[0m\" 200 -\n",
            "127.0.0.1 - - [03/Aug/2021 13:43:11] \"\u001b[37mGET / HTTP/1.1\u001b[0m\" 200 -\n",
            "127.0.0.1 - - [03/Aug/2021 13:45:48] \"\u001b[37mGET / HTTP/1.1\u001b[0m\" 200 -\n"
          ],
          "name": "stderr"
        },
        {
          "output_type": "stream",
          "text": [
            "<eng.ger> I built a language translator using deep learning\n",
            "tensor([[250103,    336,    259,  22961,    259,    262,  17896,    259, 159095,\n",
            "            259,   4342,  24682,  22651,      1,      0,      0,      0,      0,\n",
            "              0,      0,      0,      0,      0,      0,      0,      0,      0,\n",
            "              0,      0,      0,      0,      0,      0,      0,      0,      0,\n",
            "              0,      0,      0,      0]], device='cuda:0')\n"
          ],
          "name": "stdout"
        },
        {
          "output_type": "stream",
          "text": [
            "127.0.0.1 - - [03/Aug/2021 13:55:06] \"\u001b[37mPOST /translate HTTP/1.1\u001b[0m\" 200 -\n",
            "127.0.0.1 - - [03/Aug/2021 13:55:14] \"\u001b[37mGET / HTTP/1.1\u001b[0m\" 200 -\n"
          ],
          "name": "stderr"
        },
        {
          "output_type": "stream",
          "text": [
            "<ger.eng> Ich habe einen Sprachübersetzer mit Hilfe von Deep Learning entwickelt.\n",
            "tensor([[250102,   4824,   6247,    259,   2448,  92439,  19365,   2325,   3885,\n",
            "            749,    259,  41034,    795,  29188,  48162,    259,  42654,    270,\n",
            "            260,      1,      0,      0,      0,      0,      0,      0,      0,\n",
            "              0,      0,      0,      0,      0,      0,      0,      0,      0,\n",
            "              0,      0,      0,      0]], device='cuda:0')\n"
          ],
          "name": "stdout"
        },
        {
          "output_type": "stream",
          "text": [
            "127.0.0.1 - - [03/Aug/2021 13:55:19] \"\u001b[37mPOST /translate HTTP/1.1\u001b[0m\" 200 -\n",
            "127.0.0.1 - - [03/Aug/2021 13:55:25] \"\u001b[37mGET / HTTP/1.1\u001b[0m\" 200 -\n"
          ],
          "name": "stderr"
        },
        {
          "output_type": "stream",
          "text": [
            "<eng.rus> I developed a language translator with the help of Deep Learning.\n",
            "tensor([[250101,    336,    259,  36260,    259,    262,  17896,    259, 159095,\n",
            "            514,    287,   2114,    304,  29188,  48162,    260,      1,      0,\n",
            "              0,      0,      0,      0,      0,      0,      0,      0,      0,\n",
            "              0,      0,      0,      0,      0,      0,      0,      0,      0,\n",
            "              0,      0,      0,      0]], device='cuda:0')\n"
          ],
          "name": "stdout"
        },
        {
          "output_type": "stream",
          "text": [
            "127.0.0.1 - - [03/Aug/2021 13:55:31] \"\u001b[37mPOST /translate HTTP/1.1\u001b[0m\" 200 -\n",
            "127.0.0.1 - - [03/Aug/2021 13:55:36] \"\u001b[37mGET / HTTP/1.1\u001b[0m\" 200 -\n"
          ],
          "name": "stderr"
        },
        {
          "output_type": "stream",
          "text": [
            "<rus.eng> Я разработал языковой переводчик с помощью Deep Learning.\n",
            "tensor([[250100,   2553,  26494,   3725,  11183,   8050,  43898,  19965,    388,\n",
            "           8465,   4722,  29188,  48162,    260,      1,      0,      0,      0,\n",
            "              0,      0,      0,      0,      0,      0,      0,      0,      0,\n",
            "              0,      0,      0,      0,      0,      0,      0,      0,      0,\n",
            "              0,      0,      0,      0]], device='cuda:0')\n"
          ],
          "name": "stdout"
        },
        {
          "output_type": "stream",
          "text": [
            "127.0.0.1 - - [03/Aug/2021 13:55:42] \"\u001b[37mPOST /translate HTTP/1.1\u001b[0m\" 200 -\n",
            "127.0.0.1 - - [03/Aug/2021 13:55:45] \"\u001b[37mGET / HTTP/1.1\u001b[0m\" 200 -\n",
            "127.0.0.1 - - [03/Aug/2021 13:59:15] \"\u001b[37mGET / HTTP/1.1\u001b[0m\" 200 -\n"
          ],
          "name": "stderr"
        },
        {
          "output_type": "stream",
          "text": [
            "<eng.ger> I built a language translator using deep learning\n",
            "tensor([[250103,    336,    259,  22961,    259,    262,  17896,    259, 159095,\n",
            "            259,   4342,  24682,  22651,      1,      0,      0,      0,      0,\n",
            "              0,      0,      0,      0,      0,      0,      0,      0,      0,\n",
            "              0,      0,      0,      0,      0,      0,      0,      0,      0,\n",
            "              0,      0,      0,      0]], device='cuda:0')\n"
          ],
          "name": "stdout"
        },
        {
          "output_type": "stream",
          "text": [
            "127.0.0.1 - - [03/Aug/2021 14:08:29] \"\u001b[37mPOST /translate HTTP/1.1\u001b[0m\" 200 -\n",
            "127.0.0.1 - - [03/Aug/2021 14:08:39] \"\u001b[37mGET / HTTP/1.1\u001b[0m\" 200 -\n"
          ],
          "name": "stderr"
        },
        {
          "output_type": "stream",
          "text": [
            "<ger.eng> Ich habe einen Sprachübersetzer mit Hilfe von Deep Learning entwickelt.\n",
            "tensor([[250102,   4824,   6247,    259,   2448,  92439,  19365,   2325,   3885,\n",
            "            749,    259,  41034,    795,  29188,  48162,    259,  42654,    270,\n",
            "            260,      1,      0,      0,      0,      0,      0,      0,      0,\n",
            "              0,      0,      0,      0,      0,      0,      0,      0,      0,\n",
            "              0,      0,      0,      0]], device='cuda:0')\n"
          ],
          "name": "stdout"
        },
        {
          "output_type": "stream",
          "text": [
            "127.0.0.1 - - [03/Aug/2021 14:08:47] \"\u001b[37mPOST /translate HTTP/1.1\u001b[0m\" 200 -\n",
            "127.0.0.1 - - [03/Aug/2021 14:08:54] \"\u001b[37mGET / HTTP/1.1\u001b[0m\" 200 -\n"
          ],
          "name": "stderr"
        },
        {
          "output_type": "stream",
          "text": [
            "<eng.rus> I developed a language translator with the help of Deep Learning.\n",
            "tensor([[250101,    336,    259,  36260,    259,    262,  17896,    259, 159095,\n",
            "            514,    287,   2114,    304,  29188,  48162,    260,      1,      0,\n",
            "              0,      0,      0,      0,      0,      0,      0,      0,      0,\n",
            "              0,      0,      0,      0,      0,      0,      0,      0,      0,\n",
            "              0,      0,      0,      0]], device='cuda:0')\n"
          ],
          "name": "stdout"
        },
        {
          "output_type": "stream",
          "text": [
            "127.0.0.1 - - [03/Aug/2021 14:09:01] \"\u001b[37mPOST /translate HTTP/1.1\u001b[0m\" 200 -\n",
            "127.0.0.1 - - [03/Aug/2021 14:09:09] \"\u001b[37mGET / HTTP/1.1\u001b[0m\" 200 -\n"
          ],
          "name": "stderr"
        },
        {
          "output_type": "stream",
          "text": [
            "<rus.eng> Я разработал языковой переводчик с помощью Deep Learning.\n",
            "tensor([[250100,   2553,  26494,   3725,  11183,   8050,  43898,  19965,    388,\n",
            "           8465,   4722,  29188,  48162,    260,      1,      0,      0,      0,\n",
            "              0,      0,      0,      0,      0,      0,      0,      0,      0,\n",
            "              0,      0,      0,      0,      0,      0,      0,      0,      0,\n",
            "              0,      0,      0,      0]], device='cuda:0')\n"
          ],
          "name": "stdout"
        },
        {
          "output_type": "stream",
          "text": [
            "127.0.0.1 - - [03/Aug/2021 14:09:19] \"\u001b[37mPOST /translate HTTP/1.1\u001b[0m\" 200 -\n",
            "127.0.0.1 - - [03/Aug/2021 14:09:22] \"\u001b[37mGET / HTTP/1.1\u001b[0m\" 200 -\n",
            "127.0.0.1 - - [03/Aug/2021 14:19:29] \"\u001b[37mGET / HTTP/1.1\u001b[0m\" 200 -\n",
            "127.0.0.1 - - [03/Aug/2021 14:19:31] \"\u001b[37mGET / HTTP/1.1\u001b[0m\" 200 -\n",
            "127.0.0.1 - - [03/Aug/2021 14:23:12] \"\u001b[37mGET / HTTP/1.1\u001b[0m\" 200 -\n"
          ],
          "name": "stderr"
        },
        {
          "output_type": "stream",
          "text": [
            "<eng.ger> Please specify desired languages and enter your text\r\n",
            "\r\n",
            "\n",
            "tensor([[250103,    259,   9560, 104488,    276,  44776,    345,    259, 100568,\n",
            "            305,  21548,    772,   7461,    259,      1,      0,      0,      0,\n",
            "              0,      0,      0,      0,      0,      0,      0,      0,      0,\n",
            "              0,      0,      0,      0,      0,      0,      0,      0,      0,\n",
            "              0,      0,      0,      0]], device='cuda:0')\n"
          ],
          "name": "stdout"
        },
        {
          "output_type": "stream",
          "text": [
            "127.0.0.1 - - [03/Aug/2021 14:23:23] \"\u001b[37mPOST /translate HTTP/1.1\u001b[0m\" 200 -\n",
            "127.0.0.1 - - [03/Aug/2021 14:23:26] \"\u001b[37mGET / HTTP/1.1\u001b[0m\" 200 -\n",
            "127.0.0.1 - - [03/Aug/2021 14:26:02] \"\u001b[37mGET / HTTP/1.1\u001b[0m\" 200 -\n",
            "127.0.0.1 - - [03/Aug/2021 14:33:09] \"\u001b[37mGET / HTTP/1.1\u001b[0m\" 200 -\n",
            "127.0.0.1 - - [03/Aug/2021 14:33:13] \"\u001b[37mGET / HTTP/1.1\u001b[0m\" 200 -\n"
          ],
          "name": "stderr"
        },
        {
          "output_type": "stream",
          "text": [
            "<eng.ger> I built a language translator using deep learning\n",
            "tensor([[250103,    336,    259,  22961,    259,    262,  17896,    259, 159095,\n",
            "            259,   4342,  24682,  22651,      1,      0,      0,      0,      0,\n",
            "              0,      0,      0,      0,      0,      0,      0,      0,      0,\n",
            "              0,      0,      0,      0,      0,      0,      0,      0,      0,\n",
            "              0,      0,      0,      0]], device='cuda:0')\n"
          ],
          "name": "stdout"
        },
        {
          "output_type": "stream",
          "text": [
            "127.0.0.1 - - [03/Aug/2021 14:46:39] \"\u001b[37mPOST /translate HTTP/1.1\u001b[0m\" 200 -\n",
            "127.0.0.1 - - [03/Aug/2021 14:46:53] \"\u001b[37mGET / HTTP/1.1\u001b[0m\" 200 -\n"
          ],
          "name": "stderr"
        },
        {
          "output_type": "stream",
          "text": [
            "<ger.eng> Ich habe einen Sprachübersetzer mit Hilfe von Deep Learning entwickelt.\n",
            "tensor([[250102,   4824,   6247,    259,   2448,  92439,  19365,   2325,   3885,\n",
            "            749,    259,  41034,    795,  29188,  48162,    259,  42654,    270,\n",
            "            260,      1,      0,      0,      0,      0,      0,      0,      0,\n",
            "              0,      0,      0,      0,      0,      0,      0,      0,      0,\n",
            "              0,      0,      0,      0]], device='cuda:0')\n"
          ],
          "name": "stdout"
        },
        {
          "output_type": "stream",
          "text": [
            "127.0.0.1 - - [03/Aug/2021 14:47:00] \"\u001b[37mPOST /translate HTTP/1.1\u001b[0m\" 200 -\n",
            "127.0.0.1 - - [03/Aug/2021 14:47:11] \"\u001b[37mGET / HTTP/1.1\u001b[0m\" 200 -\n"
          ],
          "name": "stderr"
        },
        {
          "output_type": "stream",
          "text": [
            "<eng.rus> I developed a language translator with the help of Deep Learning.\n",
            "tensor([[250101,    336,    259,  36260,    259,    262,  17896,    259, 159095,\n",
            "            514,    287,   2114,    304,  29188,  48162,    260,      1,      0,\n",
            "              0,      0,      0,      0,      0,      0,      0,      0,      0,\n",
            "              0,      0,      0,      0,      0,      0,      0,      0,      0,\n",
            "              0,      0,      0,      0]], device='cuda:0')\n"
          ],
          "name": "stdout"
        },
        {
          "output_type": "stream",
          "text": [
            "127.0.0.1 - - [03/Aug/2021 14:47:21] \"\u001b[37mPOST /translate HTTP/1.1\u001b[0m\" 200 -\n",
            "127.0.0.1 - - [03/Aug/2021 14:47:29] \"\u001b[37mGET / HTTP/1.1\u001b[0m\" 200 -\n"
          ],
          "name": "stderr"
        }
      ]
    }
  ]
}